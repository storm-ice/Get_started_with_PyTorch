{
 "cells": [
  {
   "cell_type": "markdown",
   "id": "d6ac47f2-2a89-4d67-85ef-475169ef8578",
   "metadata": {},
   "source": [
    "# BUILD THE NEURAL NETWORK"
   ]
  },
  {
   "cell_type": "markdown",
   "id": "609223c3-9c13-447f-a7a9-93ffee47eaaf",
   "metadata": {},
   "source": [
    "# Get Device for training"
   ]
  },
  {
   "cell_type": "markdown",
   "id": "135df18a-882f-4491-a405-19162922582d",
   "metadata": {},
   "source": [
    "# Define the Class"
   ]
  },
  {
   "cell_type": "markdown",
   "id": "67b40ba3-be1d-4241-88d1-73b69df126f3",
   "metadata": {},
   "source": [
    "# Model Layers"
   ]
  },
  {
   "cell_type": "markdown",
   "id": "69b21298-7c4b-4809-897d-73c46ee1891e",
   "metadata": {},
   "source": [
    "## nn.Flatten"
   ]
  },
  {
   "cell_type": "markdown",
   "id": "2a3ce096-f8d0-486c-a8cb-f819c221de40",
   "metadata": {},
   "source": [
    "## nn.Linear"
   ]
  },
  {
   "cell_type": "markdown",
   "id": "bc63ea15-a945-40ec-88ad-8633247cacfb",
   "metadata": {},
   "source": [
    "## nn.ReLU"
   ]
  },
  {
   "cell_type": "markdown",
   "id": "ec4b4310-ebb5-4477-ae69-0e1657b67c50",
   "metadata": {},
   "source": [
    "## nn.Sequential"
   ]
  },
  {
   "cell_type": "markdown",
   "id": "5bba583f-fdb6-4d2a-ab54-1d5b25109f41",
   "metadata": {},
   "source": [
    "## nn.Softmax"
   ]
  },
  {
   "cell_type": "markdown",
   "id": "37b41da3-f55a-45ba-b9cd-b78492972df5",
   "metadata": {},
   "source": [
    "# Model Parameters"
   ]
  },
  {
   "cell_type": "markdown",
   "id": "dddd2aec-7bc2-41d9-a543-4084c3aa6546",
   "metadata": {},
   "source": [
    "# Further Reading"
   ]
  },
  {
   "cell_type": "code",
   "execution_count": null,
   "id": "dc339a9b-4930-4f30-b632-6320c17764d5",
   "metadata": {},
   "outputs": [],
   "source": []
  }
 ],
 "metadata": {
  "kernelspec": {
   "display_name": "Python 3 (ipykernel)",
   "language": "python",
   "name": "python3"
  },
  "language_info": {
   "codemirror_mode": {
    "name": "ipython",
    "version": 3
   },
   "file_extension": ".py",
   "mimetype": "text/x-python",
   "name": "python",
   "nbconvert_exporter": "python",
   "pygments_lexer": "ipython3",
   "version": "3.8.0"
  }
 },
 "nbformat": 4,
 "nbformat_minor": 5
}
