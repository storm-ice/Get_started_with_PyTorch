{
 "cells": [
  {
   "cell_type": "markdown",
   "id": "8a47ba9b-defc-425d-8924-bb717c639ccd",
   "metadata": {},
   "source": [
    "# Automatic Differentiation with `torch.autograd`"
   ]
  },
  {
   "cell_type": "markdown",
   "id": "8e6b11b5-23cf-4915-91ee-ad68733180bf",
   "metadata": {},
   "source": [
    "# Tensors, Funtions and Computational graph"
   ]
  },
  {
   "cell_type": "markdown",
   "id": "d99c9282-0a18-459b-9eb9-c286dccedf8d",
   "metadata": {},
   "source": [
    "# Computing Gradients"
   ]
  },
  {
   "cell_type": "markdown",
   "id": "329e3ad8-1efd-4955-9d05-1eedba046280",
   "metadata": {},
   "source": [
    "# Disabling Gradent Tracking"
   ]
  },
  {
   "cell_type": "markdown",
   "id": "79499b49-1971-4a07-af27-558107c1274c",
   "metadata": {},
   "source": [
    "# More on Computational Graphs"
   ]
  },
  {
   "cell_type": "markdown",
   "id": "35c7b1a9-bbb5-4fd2-872f-e342bcaa8d85",
   "metadata": {},
   "source": [
    "# Optional Reading: Tensor Gradents and Jacobian Products"
   ]
  },
  {
   "cell_type": "markdown",
   "id": "9cc55a05-1f20-4fb3-aa95-ac4609e10136",
   "metadata": {},
   "source": [
    "## Further Reading"
   ]
  },
  {
   "cell_type": "code",
   "execution_count": null,
   "id": "b585c2f3-7b37-4c03-afc3-f3f955ad19f4",
   "metadata": {},
   "outputs": [],
   "source": []
  }
 ],
 "metadata": {
  "kernelspec": {
   "display_name": "Python 3 (ipykernel)",
   "language": "python",
   "name": "python3"
  },
  "language_info": {
   "codemirror_mode": {
    "name": "ipython",
    "version": 3
   },
   "file_extension": ".py",
   "mimetype": "text/x-python",
   "name": "python",
   "nbconvert_exporter": "python",
   "pygments_lexer": "ipython3",
   "version": "3.8.0"
  }
 },
 "nbformat": 4,
 "nbformat_minor": 5
}
