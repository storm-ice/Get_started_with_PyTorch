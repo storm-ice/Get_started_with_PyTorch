{
 "cells": [
  {
   "cell_type": "markdown",
   "id": "b389d672-254d-412e-b5e3-af36ca19e17c",
   "metadata": {},
   "source": [
    "# DATASETS & DATALOADERS"
   ]
  },
  {
   "cell_type": "markdown",
   "id": "1f12ec8c-24fb-4f8e-9c67-4f8d91e0718c",
   "metadata": {},
   "source": [
    "# Loading a Dataset"
   ]
  },
  {
   "cell_type": "markdown",
   "id": "3e8f58c4-c858-4bef-a2ca-2f6fd99b36ee",
   "metadata": {},
   "source": [
    "# Iterating and Visualizing the Dataset"
   ]
  },
  {
   "cell_type": "markdown",
   "id": "3f2d851d-2d1a-4bb6-8845-29f678b31ea9",
   "metadata": {},
   "source": [
    "# Creating a Custom Dataset for your files"
   ]
  },
  {
   "cell_type": "markdown",
   "id": "f1538ba2-0073-4720-a188-bdc22686232d",
   "metadata": {},
   "source": [
    "# Preparing your data for training with Dataloaders"
   ]
  },
  {
   "cell_type": "markdown",
   "id": "8fc99e4a-4a9c-479f-8f63-5268abd90a9a",
   "metadata": {},
   "source": [
    "# Iterate throgh the Dataloader "
   ]
  },
  {
   "cell_type": "markdown",
   "id": "1a248bea-0a5e-4b40-8cea-3ef84f445bb1",
   "metadata": {},
   "source": [
    "# Further Reading"
   ]
  },
  {
   "cell_type": "code",
   "execution_count": null,
   "id": "b601b2c9-8f25-4a84-893f-e7ee4b28775f",
   "metadata": {},
   "outputs": [],
   "source": []
  }
 ],
 "metadata": {
  "kernelspec": {
   "display_name": "Python 3 (ipykernel)",
   "language": "python",
   "name": "python3"
  },
  "language_info": {
   "codemirror_mode": {
    "name": "ipython",
    "version": 3
   },
   "file_extension": ".py",
   "mimetype": "text/x-python",
   "name": "python",
   "nbconvert_exporter": "python",
   "pygments_lexer": "ipython3",
   "version": "3.8.0"
  }
 },
 "nbformat": 4,
 "nbformat_minor": 5
}
