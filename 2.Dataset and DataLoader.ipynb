{
 "cells": [
  {
   "cell_type": "markdown",
   "id": "b389d672-254d-412e-b5e3-af36ca19e17c",
   "metadata": {},
   "source": [
    "数据集和数据加载器 — PyTorch 教程 2.2.0+cu121 文档\n",
    "\n",
    "\n",
    "[数据集和数据加载器 — PyTorch 教程 2.2.0+cu121 文档](https://pytorch.org/tutorials/beginner/basics/data_tutorial.html)\n",
    "\n"
   ]
  },
  {
   "cell_type": "markdown",
   "id": "ff2e6941-c3ca-45ee-9704-61dd7f790ac1",
   "metadata": {},
   "source": [
    "# 数据集和数据加载器"
   ]
  },
  {
   "cell_type": "markdown",
   "id": "709e6ea8-0fc8-44a3-b301-4827c18609b3",
   "metadata": {},
   "source": [
    "用于处理数据样本的代码可能会变得混乱且难以维护；理想情况下，我们希望数据集代码与模型训练代码分离，以获得更好的可读性和模块化性。PyTorch 提供了两个数据原语：`torch.utils.data.DataLoader`和`torch.utils.data.Dataset` ，允许您使用预加载的数据集以及您自己的数据。 `Dataset`存储样本及其相应的标签，并`DataLoader`围绕 `Dataset`进行迭代，以方便访问样本。"
   ]
  },
  {
   "cell_type": "markdown",
   "id": "4ab43fd6-29f3-4b00-a3b4-93a6f9e27d01",
   "metadata": {},
   "source": [
    "PyTorch 域库提供了许多预加载的数据集（例如 FashionMNIST）。这些数据集是`torch.utils.data.Dataset`的子类。并且，对于特定数据，实现特定的函数。它们可用于对您的模型进行原型设计和基准测试。您可以在这里找到它们：[图像数据集](https://pytorch.org/vision/stable/datasets.html)、 [文本数据集](https://pytorch.org/text/stable/datasets.html)和 [音频数据集](https://pytorch.org/audio/stable/datasets.html)"
   ]
  },
  {
   "cell_type": "markdown",
   "id": "1f12ec8c-24fb-4f8e-9c67-4f8d91e0718c",
   "metadata": {},
   "source": [
    "## 加载数据集\r\n",
    "\r\n",
    "以下是如何从 TorchVision 加载[Fashion-MNIST](https://research.zalando.com/project/fashion_mnist/fashion_mnist/)数据集的示例。Fashion-MNIST 是 Zaland论文文章的图像数据集。这个数据集由 60,000 个训练样本和 10,000 个测试样本组成。每个样本包含一个 28×28 灰度图像和来自 10 个类别之一的关联标签。\r\n",
    "\r\n",
    "我们使用以下参数，来加载[FashionMNIST 数据集](https://pytorch.org/vision/stable/datasets.html#fashinistom)\n",
    "\r\n",
    "\r\n",
    "  - `root` 是存储训练/测试数据的路径，\r\n",
    "\r\n",
    "- `train` 指定训练或测试数据集，\r\n",
    "\r\n",
    "- `download=True` 如果`root` 上没有数据，则从 Internet 下载数据。\r\n",
    "\r\n",
    "- `transform`并`target_transform`指定特征和标签转换。"
   ]
  },
  {
   "cell_type": "code",
   "execution_count": 9,
   "id": "3531b6bf-3614-47a0-8d55-15ce01a1fadd",
   "metadata": {},
   "outputs": [],
   "source": [
    "import torch\n",
    "from torch.utils.data import Dataset\n",
    "from torchvision import datasets\n",
    "from torchvision.transforms import ToTensor\n",
    "import matplotlib.pyplot as plt\n",
    "\n",
    "training_data = datasets.FashionMNIST(\n",
    "    root = \"data\",\n",
    "    train = True,\n",
    "    download = True,\n",
    "    transform = ToTensor()\n",
    ")\n",
    "\n",
    "test_data = datasets.FashionMNIST(\n",
    "    root = \"data\",\n",
    "    train = False,\n",
    "    download = True,\n",
    "    transform = ToTensor()\n",
    ")"
   ]
  },
  {
   "cell_type": "markdown",
   "id": "3e8f58c4-c858-4bef-a2ca-2f6fd99b36ee",
   "metadata": {},
   "source": [
    "# 迭代和可视化数据集"
   ]
  },
  {
   "cell_type": "markdown",
   "id": "b80631c2-ccdd-4833-9cdf-4b2d220f471f",
   "metadata": {},
   "source": [
    "我们可以像列表一样手动索引`Datasets`：`training_data[index]`。我们用`matplotlib`来可视化训练数据中的一些样本。"
   ]
  },
  {
   "cell_type": "code",
   "execution_count": 10,
   "id": "31018664-9be9-4064-951a-c5b38cf8493b",
   "metadata": {},
   "outputs": [
    {
     "data": {
      "image/png": "[encoded data removed]",
      "text/plain": [
       "<Figure size 800x800 with 9 Axes>"
      ]
     },
     "metadata": {},
     "output_type": "display_data"
    }
   ],
   "source": [
    "labels_map = {\n",
    "    0: \"T-Shirt\",\n",
    "    1: \"Trouser\",\n",
    "    2: \"Pullover\",\n",
    "    3: \"Dress\",\n",
    "    4: \"Coat\",\n",
    "    5: \"Sandal\",\n",
    "    6: \"Shirt\",\n",
    "    7: \"Sneaker\",\n",
    "    8: \"Bag\",\n",
    "    9: \"Ankle Boot\",\n",
    "}\n",
    "\n",
    "figure = plt.figure(figsize = (8, 8))\n",
    "cols, rows = 3, 3\n",
    "for i in range(1, cols * rows + 1):\n",
    "    sample_idx = torch.randint(len(training_data), size = (1, )).item()\n",
    "    img, idx = training_data[sample_idx]\n",
    "    figure.add_subplot(rows, cols, i)\n",
    "    plt.axis(\"off\")\n",
    "    plt.imshow(img.squeeze(), cmap = \"gray\")\n",
    "plt.show()"
   ]
  },
  {
   "cell_type": "markdown",
   "id": "3f2d851d-2d1a-4bb6-8845-29f678b31ea9",
   "metadata": {},
   "source": [
    "# 为您的文件创建自定义数据集"
   ]
  },
  {
   "cell_type": "markdown",
   "id": "ca9f3478-c982-4eef-87ad-41f1eef2ce3f",
   "metadata": {},
   "source": [
    "自定义 Dataset 类必须实现三个函数：`__init__`、`__len__`和`__getitem`__。看看这个实现：FashionMNIST 图像存储在目录`img_dir`中，它们的标签单独存储在CSV 文件`annotations_file`中。"
   ]
  },
  {
   "cell_type": "code",
   "execution_count": 11,
   "id": "5947ef6e-91c1-4a37-b75c-d93355e05a9f",
   "metadata": {},
   "outputs": [],
   "source": [
    "import os\n",
    "import pandas as pd\n",
    "from torchvision.io import read_image\n",
    "\n",
    "class CustomImageDataset(Dataset):\n",
    "    def __init__(self, annotations_file, img_dir, transform = None, target_tansform = None):\n",
    "        self.img_labels = pd.read_csv(annotations_file)\n",
    "        self.img_dir = img_dir\n",
    "        self.transform = transform\n",
    "        self.target_transform = target_transform\n",
    "\n",
    "    def __len__(self):\n",
    "        return len(self.img_labels)\n",
    "\n",
    "    def __getitem__(self, idx):\n",
    "        img_path = os.path.join(self.img_dir, self.img_labels.iloc[idx, 0])\n",
    "        image = read_image(img_path)\n",
    "        label = self.img_labels.iloc[idx, 1]\n",
    "        if self.transform:\n",
    "            image = self.transfrom(image)\n",
    "        if self.target_transform:\n",
    "            label = self.target_transform(label)\n",
    "        return image, label\n"
   ]
  },
  {
   "cell_type": "markdown",
   "id": "4b82d13f-4650-41fb-b36d-7f7fd6395f04",
   "metadata": {},
   "source": [
    "## \\__init__"
   ]
  },
  {
   "cell_type": "markdown",
   "id": "7cb624b6-5dc3-49e7-8a19-6befad13aeab",
   "metadata": {},
   "source": [
    "`__init__` 函数在实例化 Dataset 对象时运行一次。我们初始化包含图像、注释文件和两种转换的目录（下一节将更详细地介绍）。"
   ]
  },
  {
   "cell_type": "code",
   "execution_count": 4,
   "id": "6ddf9ac2-b4f3-4c55-8881-217e79e0faa9",
   "metadata": {},
   "outputs": [
    {
     "ename": "SyntaxError",
     "evalue": "invalid syntax (808860634.py, line 3)",
     "output_type": "error",
     "traceback": [
      "\u001b[1;36m  Cell \u001b[1;32mIn[4], line 3\u001b[1;36m\u001b[0m\n\u001b[1;33m    ......\u001b[0m\n\u001b[1;37m       ^\u001b[0m\n\u001b[1;31mSyntaxError\u001b[0m\u001b[1;31m:\u001b[0m invalid syntax\n"
     ]
    }
   ],
   "source": [
    "tshirt1.jpg, 0\n",
    "tshirt2.jpg, 0\n",
    "......\n",
    "ankleboot999.jpg, 9"
   ]
  },
  {
   "cell_type": "code",
   "execution_count": 12,
   "id": "c7cb9a49-d667-4b03-9dfd-71fde6ea4ee4",
   "metadata": {},
   "outputs": [],
   "source": [
    "def __init__(self, annotations_file, img_dir, transform=None, target_transform=None):\n",
    "    self.img_labels = pd.read_csv(annotations_file)\n",
    "    self.img_dir = img_dir\n",
    "    self.transform = transform\n",
    "    self.target_transform = target_transform"
   ]
  },
  {
   "cell_type": "markdown",
   "id": "b81e3902-93c3-461c-9551-146ef31a1e22",
   "metadata": {},
   "source": [
    "## \\__len__"
   ]
  },
  {
   "cell_type": "markdown",
   "id": "9be413ec-6e86-4727-96bd-fcd9644e40d2",
   "metadata": {},
   "source": [
    "`__len__` 函数返回数据集中的样本数。"
   ]
  },
  {
   "cell_type": "markdown",
   "id": "c435a5cb-dc91-4102-93f2-861502da78b5",
   "metadata": {},
   "source": [
    "例子："
   ]
  },
  {
   "cell_type": "code",
   "execution_count": 13,
   "id": "26fd8d43-b7e4-452a-9fc5-d3c8cdd90d95",
   "metadata": {},
   "outputs": [],
   "source": [
    "def __len__(self):\r\n",
    "    return len(self.img_labels)"
   ]
  },
  {
   "cell_type": "markdown",
   "id": "3958962c-e4d1-4c75-a233-88cd1b47e64b",
   "metadata": {},
   "source": [
    "## \\__getitem__"
   ]
  },
  {
   "cell_type": "markdown",
   "id": "608ad4e4-4f6e-42a4-8268-73541425ec64",
   "metadata": {},
   "source": [
    "`__getitem__` 函数从数据集加载并返回给定索引`idx`的的样本。基于索引，它识别图像在磁盘上的位置，使用`read_image` 将其转换为张量，从 `self.img_labels`中的 csv 数据中检索相应的标签，调用它们的转换函数（如果适用），并以元组方式返回张量图像和相应的标签。"
   ]
  },
  {
   "cell_type": "code",
   "execution_count": 14,
   "id": "d8dd44ce-a50f-49dd-b9e9-a78df7ca36af",
   "metadata": {},
   "outputs": [],
   "source": [
    "def __getitem__(self, idx):\n",
    "    img_path = os.path.join(self.img_dir, self.img_labels.iloc[idx, 0])\n",
    "    image = read_image(img_path)\n",
    "    label = self.img_labels.iloc[idx, 1]\n",
    "    if self.transform:\n",
    "        image = self.transform(image)\n",
    "    if self.target_transform:\n",
    "        label = self.target_transform(label)\n",
    "    return image, label"
   ]
  },
  {
   "cell_type": "markdown",
   "id": "f1538ba2-0073-4720-a188-bdc22686232d",
   "metadata": {},
   "source": [
    "# 使用 DataLoaders 准备数据以进行训练"
   ]
  },
  {
   "cell_type": "markdown",
   "id": "5db75098-1c9d-4e8e-9b54-8d32c26f44e6",
   "metadata": {},
   "source": [
    "`Dataset`检索我们的数据集的特征并一次标记一个样本。在训练模型时，我们通常希望以 “minibatches”方式传递样本，在每个epcoch重新整理数据以减少模型过度拟合，并使用 Python的`multiprocessing`来加速数据检索。\r\n",
    "\r\n",
    "`DataLoader`是一个可迭代对象，它通过一个简单的 API 为我们抽象了这种复杂性。"
   ]
  },
  {
   "cell_type": "code",
   "execution_count": 16,
   "id": "90faec67-a536-4930-b36e-ac9510c17fe8",
   "metadata": {},
   "outputs": [],
   "source": [
    "from torch.utils.data import DataLoader\n",
    "train_dataloader = DataLoader(training_data, batch_size = 64, shuffle = True)\n",
    "test_dataloader = DataLoader(test_data, batch_size = 64, shuffle = True)"
   ]
  },
  {
   "cell_type": "markdown",
   "id": "8fc99e4a-4a9c-479f-8f63-5268abd90a9a",
   "metadata": {},
   "source": [
    "# 遍历 DataLoader"
   ]
  },
  {
   "cell_type": "markdown",
   "id": "dee265d2-6d68-453a-93e4-4d686ac7b3d7",
   "metadata": {},
   "source": [
    "我们已将该数据集加载到 `DataLoader` 中，并且可以根据需要迭代数据集。下面的每次迭代都会返回一批`train_features`和`train_labels`（`batch_size=64`分别包含特征和标签）。因为我们指定了`shuffle=True`，所以在迭代所有批次后，数据将被打乱（为了更细粒度地控制数据加载顺序，请查看[Samplers](https://pytorch.org/docs/stable/data.html#data-loading-order-and-sampler)）。"
   ]
  },
  {
   "cell_type": "code",
   "execution_count": 22,
   "id": "80a0dd16-65dc-478a-a7c4-c45271e6b06f",
   "metadata": {},
   "outputs": [
    {
     "name": "stdout",
     "output_type": "stream",
     "text": [
      "Feature batch shape: torch.Size([64, 1, 28, 28])\n",
      "Label batch shape: torch.Size([64])\n",
      "Label: 7\n"
     ]
    },
    {
     "data": {
      "image/png": "[encoded data removed]",
      "text/plain": [
       "<Figure size 640x480 with 1 Axes>"
      ]
     },
     "metadata": {},
     "output_type": "display_data"
    }
   ],
   "source": [
    "# Display image and label.\n",
    "train_features, train_labels = next(iter(train_dataloader))\n",
    "print(f\"Feature batch shape: {train_features.size()}\")\n",
    "print(f\"Label batch shape: {train_labels.size()}\")\n",
    "img = train_features[0].squeeze()\n",
    "label = train_labels[0]\n",
    "print(f\"Label: {label}\")\n",
    "plt.imshow(img, cmap = \"gray\")\n",
    "plt.show()"
   ]
  },
  {
   "cell_type": "markdown",
   "id": "1a248bea-0a5e-4b40-8cea-3ef84f445bb1",
   "metadata": {},
   "source": [
    "# 进一步阅读"
   ]
  },
  {
   "cell_type": "markdown",
   "id": "b5debb2f-52cc-4c7b-b75b-1fddb2fbd9e8",
   "metadata": {},
   "source": [
    "- [torch.utils.data API](https://pytorch.org/docs/stable/data.html)"
   ]
  },
  {
   "cell_type": "code",
   "execution_count": null,
   "id": "7f01fb72-eec4-4079-b95a-ccab6f7741f8",
   "metadata": {},
   "outputs": [],
   "source": []
  }
 ],
 "metadata": {
  "kernelspec": {
   "display_name": "Python 3 (ipykernel)",
   "language": "python",
   "name": "python3"
  },
  "language_info": {
   "codemirror_mode": {
    "name": "ipython",
    "version": 3
   },
   "file_extension": ".py",
   "mimetype": "text/x-python",
   "name": "python",
   "nbconvert_exporter": "python",
   "pygments_lexer": "ipython3",
   "version": "3.8.0"
  }
 },
 "nbformat": 4,
 "nbformat_minor": 5
}
