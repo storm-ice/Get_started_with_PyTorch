{
 "cells": [
  {
   "cell_type": "markdown",
   "id": "b389d672-254d-412e-b5e3-af36ca19e17c",
   "metadata": {},
   "source": [
    "数据集和数据加载器 — PyTorch 教程 2.2.0+cu121 文档\n",
    "\n",
    "\n",
    "[数据集和数据加载器 — PyTorch 教程 2.2.0+cu121 文档](https://pytorch.org/tutorials/beginner/basics/data_tutorial.html)\n",
    "\n"
   ]
  },
  {
   "cell_type": "markdown",
   "id": "ff2e6941-c3ca-45ee-9704-61dd7f790ac1",
   "metadata": {},
   "source": [
    "# 数据集和数据加载器"
   ]
  },
  {
   "cell_type": "markdown",
   "id": "709e6ea8-0fc8-44a3-b301-4827c18609b3",
   "metadata": {},
   "source": [
    "用于处理数据样本的代码可能会变得混乱且难以维护；理想情况下，我们希望数据集代码与模型训练代码分离，以获得更好的可读性和模块化性。PyTorch 提供了两个数据原语：`torch.utils.data.DataLoader`和`torch.utils.data.Dataset` ，允许您使用预加载的数据集以及您自己的数据。 `Dataset`存储样本及其相应的标签，并`DataLoader`围绕 `Dataset`进行迭代，以方便访问样本。"
   ]
  },
  {
   "cell_type": "markdown",
   "id": "4ab43fd6-29f3-4b00-a3b4-93a6f9e27d01",
   "metadata": {},
   "source": [
    "PyTorch 域库提供了许多预加载的数据集（例如 FashionMNIST）。这些数据集是`torch.utils.data.Dataset`的子类。并且，对于特定数据，实现特定的函数。它们可用于对您的模型进行原型设计和基准测试。您可以在这里找到它们：[图像数据集](https://pytorch.org/vision/stable/datasets.html)、 [文本数据集](https://pytorch.org/text/stable/datasets.html)和 [音频数据集](https://pytorch.org/audio/stable/datasets.html)"
   ]
  },
  {
   "cell_type": "markdown",
   "id": "1f12ec8c-24fb-4f8e-9c67-4f8d91e0718c",
   "metadata": {},
   "source": [
    "## 加载数据集\r\n",
    "\r\n",
    "以下是如何从 TorchVision 加载[Fashion-MNIST](https://research.zalando.com/project/fashion_mnist/fashion_mnist/)数据集的示例。Fashion-MNIST 是 Zalando 文章的图像数据集。这个数据集由 60,000 个训练样本和 10,000 个测试样本组成。每个样本包含一个 28×28 灰度图像和来自 10 个类别之一的关联标签。\r\n",
    "\r\n",
    "我们使用以下参数，来加载[FashionMNIST 数据集](https://pytorch.org/vision/stable/datasets.html#fashinistom)\n",
    "\r\n",
    "\r\n",
    "  - `root` 是存储训练/测试数据的路径，\r\n",
    "\r\n",
    "- `train` 指定训练或测试数据集，\r\n",
    "\r\n",
    "- `download=True` 如果`root` 上没有数据，则从 Internet 下载数据。\r\n",
    "\r\n",
    "- `transform`并`target_transform`指定特征和标签转换。"
   ]
  },
  {
   "cell_type": "code",
   "execution_count": 4,
   "id": "3531b6bf-3614-47a0-8d55-15ce01a1fadd",
   "metadata": {},
   "outputs": [],
   "source": [
    "import torch\n",
    "from torch.utils.data import Dataset\n",
    "from torchvision import datasets\n",
    "from torchvision.transforms import ToTensor\n",
    "# import matplotlib.pyplot as plt\n",
    "import matplotlib.pyplot as plt\n",
    "\n",
    "training_data = datasets.FashionMNIST(\n",
    "    root = \"data\",\n",
    "    train = True,\n",
    "    download = True,\n",
    "    transform = ToTensor()\n",
    ")\n",
    "\n",
    "test_data = datasets.FashionMNIST(\n",
    "    root = \"data\",\n",
    "    train = False,\n",
    "    download = True,\n",
    "    transform = ToTensor()\n",
    ")"
   ]
  },
  {
   "cell_type": "markdown",
   "id": "3e8f58c4-c858-4bef-a2ca-2f6fd99b36ee",
   "metadata": {},
   "source": [
    "# 迭代和可视化数据集"
   ]
  },
  {
   "cell_type": "markdown",
   "id": "3f2d851d-2d1a-4bb6-8845-29f678b31ea9",
   "metadata": {},
   "source": [
    "# 为您的文件创建自定义数据集"
   ]
  },
  {
   "cell_type": "markdown",
   "id": "4b82d13f-4650-41fb-b36d-7f7fd6395f04",
   "metadata": {},
   "source": [
    "## \\__init__"
   ]
  },
  {
   "cell_type": "markdown",
   "id": "b81e3902-93c3-461c-9551-146ef31a1e22",
   "metadata": {},
   "source": [
    "## \\__len__"
   ]
  },
  {
   "cell_type": "markdown",
   "id": "3958962c-e4d1-4c75-a233-88cd1b47e64b",
   "metadata": {},
   "source": [
    "## \\__getitem__"
   ]
  },
  {
   "cell_type": "markdown",
   "id": "f1538ba2-0073-4720-a188-bdc22686232d",
   "metadata": {},
   "source": [
    "# 使用 DataLoaders 准备数据以进行训练"
   ]
  },
  {
   "cell_type": "markdown",
   "id": "8fc99e4a-4a9c-479f-8f63-5268abd90a9a",
   "metadata": {},
   "source": [
    "# 遍历 DataLoader"
   ]
  },
  {
   "cell_type": "markdown",
   "id": "1a248bea-0a5e-4b40-8cea-3ef84f445bb1",
   "metadata": {},
   "source": [
    "# 进一步阅读"
   ]
  },
  {
   "cell_type": "markdown",
   "id": "b5debb2f-52cc-4c7b-b75b-1fddb2fbd9e8",
   "metadata": {},
   "source": [
    "- [torch.utils.data API](https://pytorch.org/docs/stable/data.html)"
   ]
  },
  {
   "cell_type": "code",
   "execution_count": null,
   "id": "7f01fb72-eec4-4079-b95a-ccab6f7741f8",
   "metadata": {},
   "outputs": [],
   "source": []
  }
 ],
 "metadata": {
  "kernelspec": {
   "display_name": "Python 3 (ipykernel)",
   "language": "python",
   "name": "python3"
  },
  "language_info": {
   "codemirror_mode": {
    "name": "ipython",
    "version": 3
   },
   "file_extension": ".py",
   "mimetype": "text/x-python",
   "name": "python",
   "nbconvert_exporter": "python",
   "pygments_lexer": "ipython3",
   "version": "3.8.0"
  }
 },
 "nbformat": 4,
 "nbformat_minor": 5
}
