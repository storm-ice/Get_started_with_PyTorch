{
 "cells": [
  {
   "cell_type": "markdown",
   "id": "ed2028db-2b35-4925-b87e-0e43810dea75",
   "metadata": {},
   "source": [
    "# Save and Load Model"
   ]
  },
  {
   "cell_type": "markdown",
   "id": "48b6a13a-714c-453a-bf60-eff89bebc76f",
   "metadata": {},
   "source": [
    "# Saving and Loading Model Weights"
   ]
  },
  {
   "cell_type": "markdown",
   "id": "abc08e8f-c4f1-4a6c-a875-6fe8d1266dae",
   "metadata": {},
   "source": [
    "# Saving and Loading Model with Shapes"
   ]
  },
  {
   "cell_type": "markdown",
   "id": "d78785f4-4396-4a99-9584-ae83b6e36e2d",
   "metadata": {},
   "source": [
    "# Related Tutorials"
   ]
  },
  {
   "cell_type": "code",
   "execution_count": null,
   "id": "a384e055-f770-456d-9cc2-b090c2bf7c92",
   "metadata": {},
   "outputs": [],
   "source": []
  }
 ],
 "metadata": {
  "kernelspec": {
   "display_name": "Python 3 (ipykernel)",
   "language": "python",
   "name": "python3"
  },
  "language_info": {
   "codemirror_mode": {
    "name": "ipython",
    "version": 3
   },
   "file_extension": ".py",
   "mimetype": "text/x-python",
   "name": "python",
   "nbconvert_exporter": "python",
   "pygments_lexer": "ipython3",
   "version": "3.8.0"
  }
 },
 "nbformat": 4,
 "nbformat_minor": 5
}
