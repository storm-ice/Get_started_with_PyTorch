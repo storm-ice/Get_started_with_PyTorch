{
 "cells": [
  {
   "cell_type": "markdown",
   "id": "dc586a23-0107-4f5b-ac25-345ad9ee395a",
   "metadata": {},
   "source": [
    "# TRANSFORMS"
   ]
  },
  {
   "cell_type": "markdown",
   "id": "e898b493-318f-4690-aa1b-beb75dc7c79e",
   "metadata": {},
   "source": [
    "# ToTensor()"
   ]
  },
  {
   "cell_type": "markdown",
   "id": "1a22b7a0-566c-4f37-b44d-d17b29fbda70",
   "metadata": {},
   "source": [
    "# Lambda Transforms"
   ]
  },
  {
   "cell_type": "markdown",
   "id": "0f90252c-77bc-4f79-b7ed-29c0f755b187",
   "metadata": {},
   "source": [
    "## Further Reading"
   ]
  },
  {
   "cell_type": "code",
   "execution_count": null,
   "id": "e093ff59-c67e-4aa9-aa49-d32602b7ff8e",
   "metadata": {},
   "outputs": [],
   "source": []
  }
 ],
 "metadata": {
  "kernelspec": {
   "display_name": "Python 3 (ipykernel)",
   "language": "python",
   "name": "python3"
  },
  "language_info": {
   "codemirror_mode": {
    "name": "ipython",
    "version": 3
   },
   "file_extension": ".py",
   "mimetype": "text/x-python",
   "name": "python",
   "nbconvert_exporter": "python",
   "pygments_lexer": "ipython3",
   "version": "3.8.0"
  }
 },
 "nbformat": 4,
 "nbformat_minor": 5
}
