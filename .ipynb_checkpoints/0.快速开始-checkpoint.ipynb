{
 "cells": [
  {
   "cell_type": "markdown",
   "id": "d370c536",
   "metadata": {},
   "source": [
    "# 快速开始"
   ]
  },
  {
   "cell_type": "markdown",
   "id": "1906fabe",
   "metadata": {},
   "source": [
    "本节介绍机器学习中常见任务的 API。请参阅每个部分中的链接以进行更深入的研究。"
   ]
  },
  {
   "cell_type": "markdown",
   "id": "8de5b833",
   "metadata": {},
   "source": [
    "# 处理数据"
   ]
  },
  {
   "cell_type": "markdown",
   "id": "54ab1502",
   "metadata": {},
   "source": [
    "PyTorch 有两个[处理数据的基元](https://pytorch.org/docs/stable/data.html)： `torch.utils.data.DataLoader`和`torch.utils.data.Dataset`。 `Dataset`存储样本及其相应的标签，`DataLoader` 包装一个可迭代对象 `Dataset`。"
   ]
  },
  {
   "cell_type": "code",
   "execution_count": 1,
   "id": "4826b896",
   "metadata": {},
   "outputs": [],
   "source": [
    "import torch\n",
    "from torch import nn\n",
    "from torch.utils.data import DataLoader\n",
    "from torchvision import datasets\n",
    "from torchvision.transforms import ToTensor"
   ]
  },
  {
   "cell_type": "markdown",
   "id": "0f35f08c",
   "metadata": {},
   "source": [
    "PyTorch 提供特定领域的库，例如[TorchText](https://pytorch.org/text/stable/index.html)、 [TorchVision](https://pytorch.org/vision/stable/index.html)和[TorchAudio](https://pytorch.org/audio/stable/index.html)，所有这些都包含数据集。在本教程中，我们将使用 TorchVision 数据集。"
   ]
  },
  {
   "cell_type": "markdown",
   "id": "399056d0",
   "metadata": {},
   "source": [
    "该`torchvision.datasets`模块包含`Dataset`许多现实世界视觉数据的对象，如 CIFAR、COCO（[完整列表见此处](https://pytorch.org/vision/stable/datasets.html)）。在本教程中，我们使用 FashionMNIST 数据集。每个 TorchVision 都`Dataset`包含两个参数：`transform`和 `target_transform`分别修改样本和标签。"
   ]
  },
  {
   "cell_type": "code",
   "execution_count": 2,
   "id": "dc5ffe5c",
   "metadata": {},
   "outputs": [],
   "source": [
    "# Download training data from open datasets.\n",
    "training_data=datasets.FashionMNIST(\n",
    "    root=\"data\",\n",
    "    train=True,\n",
    "    download=True,\n",
    "    transform=ToTensor(),\n",
    ")\n",
    "\n",
    "# Download test data from open datasets.\n",
    "test_data=datasets.FashionMNIST(\n",
    "    root=\"data\",\n",
    "    train=False,\n",
    "    download=True,\n",
    "    transform=ToTensor(),\n",
    ")"
   ]
  },
  {
   "cell_type": "markdown",
   "id": "d3208e3b",
   "metadata": {},
   "source": [
    "我们将 `Dataset` 作为参数传递给 `DataLoader`。这在我们的数据集上包装了一个可迭代对象，and supports automatic batching, sampling, shuffling and multiprocess data loading.这里我们定义batch size为64，即每个元素 在数据加载器中，iterable 将返回一批 64 个特征和标签。"
   ]
  },
  {
   "cell_type": "code",
   "execution_count": 3,
   "id": "9af01608",
   "metadata": {},
   "outputs": [
    {
     "name": "stdout",
     "output_type": "stream",
     "text": [
      "Shape of X [N, C, H, W], torch.Size([64, 1, 28, 28])\n",
      "Shape of y: torch.Size([64]) torch.int64\n"
     ]
    }
   ],
   "source": [
    "batch_size=64\n",
    "\n",
    "# Create data loaders.\n",
    "train_dataloader=DataLoader(training_data,batch_size=batch_size)\n",
    "test_dataloader=DataLoader(test_data,batch_size=batch_size)\n",
    "\n",
    "for X, y in test_dataloader:\n",
    "    print(f\"Shape of X [N, C, H, W], {X.shape}\")\n",
    "    print(f\"Shape of y: {y.shape} {y.dtype}\")\n",
    "    break"
   ]
  },
  {
   "cell_type": "markdown",
   "id": "bd68162a",
   "metadata": {},
   "source": [
    "详细了解[在 PyTorch 中加载数据](https://pytorch.org/tutorials/beginner/basics/data_tutorial.html)。"
   ]
  },
  {
   "cell_type": "markdown",
   "id": "57cf2cc0",
   "metadata": {},
   "source": [
    "# 创建模型"
   ]
  },
  {
   "cell_type": "markdown",
   "id": "c76718e4",
   "metadata": {},
   "source": [
    "为了在 PyTorch 中定义神经网络，我们创建一个继承自[nn.Module](https://pytorch.org/docs/stable/generated/torch.nn.Module.html)的类。我们在`__init__`函数中，定义网络的层。在`forward`函数中，指定数据如何在函数中通过网络。为了加速神经网络中的操作，我们将其转移到 GPU 或 MPS（如果可用）。"
   ]
  },
  {
   "cell_type": "code",
   "execution_count": 4,
   "id": "d44e6d49",
   "metadata": {},
   "outputs": [
    {
     "name": "stdout",
     "output_type": "stream",
     "text": [
      "Using cuda device\n",
      "NeuralNetwork(\n",
      "  (flatten): Flatten(start_dim=1, end_dim=-1)\n",
      "  (linear_relu_stack): Sequential(\n",
      "    (0): Linear(in_features=784, out_features=512, bias=True)\n",
      "    (1): ReLU()\n",
      "    (2): Linear(in_features=512, out_features=512, bias=True)\n",
      "    (3): ReLU()\n",
      "    (4): Linear(in_features=512, out_features=10, bias=True)\n",
      "  )\n",
      ")\n"
     ]
    }
   ],
   "source": [
    "# Get cpu, gpu or mps device for training.\n",
    "device = (\n",
    "    \"cuda\"\n",
    "    if torch.cuda.is_available()\n",
    "    else \"mps\"\n",
    "    if torch.backends.mps.is_available()\n",
    "    else \"cpu\"\n",
    "    \n",
    ")\n",
    "print(f\"Using {device} device\")\n",
    "\n",
    "# Define model\n",
    "class NeuralNetwork(nn.Module):\n",
    "    def __init__(self):\n",
    "        super().__init__()\n",
    "        self.flatten = nn.Flatten()\n",
    "        self.linear_relu_stack = nn.Sequential(\n",
    "            nn.Linear(28*28, 512),\n",
    "            nn.ReLU(),\n",
    "            nn.Linear(512, 512),\n",
    "            nn.ReLU(),\n",
    "            nn.Linear(512, 10)\n",
    "        )\n",
    "    \n",
    "    def forward(self, x):\n",
    "        x = self.flatten(x)\n",
    "        logits = self.linear_relu_stack(x)\n",
    "        return logits\n",
    "model = NeuralNetwork().to(device)\n",
    "print(model)"
   ]
  },
  {
   "cell_type": "markdown",
   "id": "79210997",
   "metadata": {},
   "source": [
    "阅读有关[在 PyTorch 中构建神经网络](https://pytorch.org/tutorials/beginner/basics/buildmodel_tutorial.html)的更多信息。"
   ]
  },
  {
   "cell_type": "markdown",
   "id": "09ab3ed7",
   "metadata": {},
   "source": [
    "# 优化模型参数"
   ]
  },
  {
   "cell_type": "markdown",
   "id": "0743f349",
   "metadata": {},
   "source": [
    "为了训练模型，我们需要一个[损失函数](https://pytorch.org/docs/stable/nn.html#loss-functions) 和一个[优化器](https://pytorch.org/docs/stable/optim.html)。"
   ]
  },
  {
   "cell_type": "code",
   "execution_count": 5,
   "id": "9b544cc0",
   "metadata": {},
   "outputs": [],
   "source": [
    "loss_fn = nn.CrossEntropyLoss()\n",
    "optimizer = torch.optim.SGD(model.parameters(), lr = 1e-3)"
   ]
  },
  {
   "cell_type": "markdown",
   "id": "22f20712",
   "metadata": {},
   "source": [
    "在单个训练循环中，模型对训练数据集（批量输入），进行预测。并反向传播预测误差，以调整模型的参数。"
   ]
  },
  {
   "cell_type": "code",
   "execution_count": 6,
   "id": "bab94292",
   "metadata": {},
   "outputs": [],
   "source": [
    "def train(dataloader, model, loss_fn, optimizer):\n",
    "    size = len(dataloader.dataset)\n",
    "    model.train()\n",
    "    for batch, (X, y) in enumerate(dataloader):\n",
    "        X, y = X.to(device), y.to(device)\n",
    "        \n",
    "        # Compute prediction error\n",
    "        pred = model(X)\n",
    "        loss = loss_fn(pred, y)\n",
    "        \n",
    "        # Backpropagation\n",
    "        loss.backward()\n",
    "        optimizer.step()\n",
    "        optimizer.zero_grad()\n",
    "        \n",
    "        if batch % 100 == 0:\n",
    "            loss, current = loss.item(), (batch + 1) * len(X)\n",
    "            print(f\"loss: {loss:>7f} [{current:>5d} / {size:>5d}]\")"
   ]
  },
  {
   "cell_type": "markdown",
   "id": "9d232a48",
   "metadata": {},
   "source": [
    "我们还根据测试数据集检查模型的性能，以确保它正在学习。"
   ]
  },
  {
   "cell_type": "code",
   "execution_count": 7,
   "id": "bc56d89f",
   "metadata": {},
   "outputs": [],
   "source": [
    "def test(dataloader, model, loss_fn):\n",
    "    size = len(dataloader.dataset)\n",
    "    num_batches = len(dataloader)\n",
    "    model.eval()\n",
    "    test_loss, correct = 0, 0\n",
    "    with torch.no_grad():\n",
    "        for X, y in dataloader:\n",
    "            X, y = X.to(device), y.to(device)\n",
    "            pred = model(X)\n",
    "            test_loss = loss_fn(pred, y).item()\n",
    "            correct += (pred.argmax(1) == y).type(torch.float).sum().item()\n",
    "    test_loss /= num_batches\n",
    "    correct /= size\n",
    "    print(f\"Test Error: \\n Accuracy: {(100*correct):>0.1f}%, Avg loss: {test_loss:>8f} \\n\")"
   ]
  },
  {
   "cell_type": "markdown",
   "id": "03c940d1",
   "metadata": {},
   "source": [
    "训练过程需要经过多次迭代（*epochs*）。在每个时期，模型都会学习参数以做出更好的预测。我们打印每个时期模型的准确性和损失；我们希望看到每个 epoch 的准确率都会提高，损失也会减少。"
   ]
  },
  {
   "cell_type": "code",
   "execution_count": 8,
   "id": "d88e0703",
   "metadata": {},
   "outputs": [
    {
     "name": "stdout",
     "output_type": "stream",
     "text": [
      "Epoch 1\n",
      "--------------------\n",
      "loss: 2.292588 [   64 / 60000]\n",
      "loss: 2.281483 [ 6464 / 60000]\n",
      "loss: 2.263758 [12864 / 60000]\n",
      "loss: 2.261707 [19264 / 60000]\n",
      "loss: 2.238106 [25664 / 60000]\n",
      "loss: 2.213899 [32064 / 60000]\n",
      "loss: 2.212728 [38464 / 60000]\n",
      "loss: 2.178851 [44864 / 60000]\n",
      "loss: 2.174153 [51264 / 60000]\n",
      "loss: 2.145497 [57664 / 60000]\n",
      "Test Error: \n",
      " Accuracy: 47.8%, Avg loss: 0.013894 \n",
      "\n",
      "Epoch 2\n",
      "--------------------\n",
      "loss: 2.147638 [   64 / 60000]\n",
      "loss: 2.131939 [ 6464 / 60000]\n",
      "loss: 2.077182 [12864 / 60000]\n",
      "loss: 2.093227 [19264 / 60000]\n",
      "loss: 2.033344 [25664 / 60000]\n",
      "loss: 1.976775 [32064 / 60000]\n",
      "loss: 1.992444 [38464 / 60000]\n",
      "loss: 1.911830 [44864 / 60000]\n",
      "loss: 1.923178 [51264 / 60000]\n",
      "loss: 1.840364 [57664 / 60000]\n",
      "Test Error: \n",
      " Accuracy: 55.2%, Avg loss: 0.012120 \n",
      "\n",
      "Epoch 3\n",
      "--------------------\n",
      "loss: 1.888993 [   64 / 60000]\n",
      "loss: 1.844798 [ 6464 / 60000]\n",
      "loss: 1.739015 [12864 / 60000]\n",
      "loss: 1.775688 [19264 / 60000]\n",
      "loss: 1.662096 [25664 / 60000]\n",
      "loss: 1.625208 [32064 / 60000]\n",
      "loss: 1.634033 [38464 / 60000]\n",
      "loss: 1.544319 [44864 / 60000]\n",
      "loss: 1.571060 [51264 / 60000]\n",
      "loss: 1.463476 [57664 / 60000]\n",
      "Test Error: \n",
      " Accuracy: 61.7%, Avg loss: 0.009771 \n",
      "\n",
      "Epoch 4\n",
      "--------------------\n",
      "loss: 1.563867 [   64 / 60000]\n",
      "loss: 1.517961 [ 6464 / 60000]\n",
      "loss: 1.380439 [12864 / 60000]\n",
      "loss: 1.446552 [19264 / 60000]\n",
      "loss: 1.327979 [25664 / 60000]\n",
      "loss: 1.333251 [32064 / 60000]\n",
      "loss: 1.339513 [38464 / 60000]\n",
      "loss: 1.266239 [44864 / 60000]\n",
      "loss: 1.295641 [51264 / 60000]\n",
      "loss: 1.207542 [57664 / 60000]\n",
      "Test Error: \n",
      " Accuracy: 64.4%, Avg loss: 0.007961 \n",
      "\n",
      "Epoch 5\n",
      "--------------------\n",
      "loss: 1.309381 [   64 / 60000]\n",
      "loss: 1.284868 [ 6464 / 60000]\n",
      "loss: 1.126156 [12864 / 60000]\n",
      "loss: 1.234348 [19264 / 60000]\n",
      "loss: 1.107957 [25664 / 60000]\n",
      "loss: 1.134352 [32064 / 60000]\n",
      "loss: 1.157021 [38464 / 60000]\n",
      "loss: 1.088847 [44864 / 60000]\n",
      "loss: 1.122984 [51264 / 60000]\n",
      "loss: 1.052671 [57664 / 60000]\n",
      "Test Error: \n",
      " Accuracy: 65.6%, Avg loss: 0.006738 \n",
      "\n",
      "Done!\n"
     ]
    }
   ],
   "source": [
    "epochs = 5\n",
    "for t in range (epochs):\n",
    "    print(f\"Epoch {t+1}\\n--------------------\")\n",
    "    train(train_dataloader, model, loss_fn, optimizer)\n",
    "    test(test_dataloader, model, loss_fn)\n",
    "print(\"Done!\")"
   ]
  },
  {
   "cell_type": "markdown",
   "id": "89881543",
   "metadata": {},
   "source": [
    "# 保存模型"
   ]
  },
  {
   "cell_type": "markdown",
   "id": "d0b38ba6",
   "metadata": {},
   "source": [
    "保存模型的常见方法是序列化内部状态字典（包含模型参数）。"
   ]
  },
  {
   "cell_type": "code",
   "execution_count": 9,
   "id": "08d7e7bd",
   "metadata": {},
   "outputs": [
    {
     "name": "stdout",
     "output_type": "stream",
     "text": [
      "Save PyTorch Model State to model.pth\n"
     ]
    }
   ],
   "source": [
    "torch.save(model.state_dict(),\"model.pth\")\n",
    "print(\"Save PyTorch Model State to model.pth\")"
   ]
  },
  {
   "cell_type": "markdown",
   "id": "8f4d6e5a",
   "metadata": {},
   "source": [
    "# 加载模型"
   ]
  },
  {
   "cell_type": "markdown",
   "id": "2ff134d1",
   "metadata": {},
   "source": [
    "加载模型的过程包括：重新创建模型结构，并将状态字典加载到其中。"
   ]
  },
  {
   "cell_type": "code",
   "execution_count": 10,
   "id": "10bad320",
   "metadata": {},
   "outputs": [
    {
     "data": {
      "text/plain": [
       "<All keys matched successfully>"
      ]
     },
     "execution_count": 10,
     "metadata": {},
     "output_type": "execute_result"
    }
   ],
   "source": [
    "model = NeuralNetwork().to(device)\n",
    "model.load_state_dict(torch.load(\"model.pth\"))"
   ]
  },
  {
   "cell_type": "markdown",
   "id": "fa610762",
   "metadata": {},
   "source": [
    "该模型现在可用于进行预测。"
   ]
  },
  {
   "cell_type": "code",
   "execution_count": 11,
   "id": "de8783fd",
   "metadata": {},
   "outputs": [
    {
     "name": "stdout",
     "output_type": "stream",
     "text": [
      "Predicted: 'Ankle boot', Actual: 'Ankle boot'\n"
     ]
    }
   ],
   "source": [
    "classes = [\n",
    "    \"T-shirt/top\",\n",
    "    \"Trouser\",\n",
    "    \"Pullover\",\n",
    "    \"Dress\",\n",
    "    \"Coat\",\n",
    "    \"Sandal\",\n",
    "    \"Shirt\",\n",
    "    \"Sneaker\",\n",
    "    \"Bag\",\n",
    "    \"Ankle boot\",\n",
    "]\n",
    "\n",
    "model.eval()\n",
    "x, y = test_data[0][0], test_data[0][1]\n",
    "with torch.no_grad():\n",
    "    x = x.to(device)\n",
    "    pred = model(x)\n",
    "    predicted, actual = classes[pred[0].argmax(0)], classes[y]\n",
    "    print(f\"Predicted: '{predicted}', Actual: '{actual}'\")"
   ]
  },
  {
   "cell_type": "code",
   "execution_count": null,
   "id": "f77f9df0",
   "metadata": {},
   "outputs": [],
   "source": []
  }
 ],
 "metadata": {
  "kernelspec": {
   "display_name": "Python 3 (ipykernel)",
   "language": "python",
   "name": "python3"
  },
  "language_info": {
   "codemirror_mode": {
    "name": "ipython",
    "version": 3
   },
   "file_extension": ".py",
   "mimetype": "text/x-python",
   "name": "python",
   "nbconvert_exporter": "python",
   "pygments_lexer": "ipython3",
   "version": "3.8.0"
  }
 },
 "nbformat": 4,
 "nbformat_minor": 5
}
