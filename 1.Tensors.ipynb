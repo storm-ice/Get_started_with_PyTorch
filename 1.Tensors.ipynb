{
 "cells": [
  {
   "cell_type": "markdown",
   "id": "cd44ba8f-f014-4e56-8b47-633f93267c14",
   "metadata": {},
   "source": [
    "# TENSORS"
   ]
  },
  {
   "cell_type": "markdown",
   "id": "5b39b10d-c10d-41aa-bedd-f9108db7bd8b",
   "metadata": {},
   "source": [
    "Tensors are a specialized data structure that are very similar to arrays and matrices. In PyTorch, we use tensors to encode the inputs and outputs of a model, as well as the model’s parameters."
   ]
  },
  {
   "cell_type": "markdown",
   "id": "38a943cc-5621-49e9-9bc9-1b4db913728e",
   "metadata": {},
   "source": [
    "Tensors are similar to <font color=\"red\"> NumPy’s </font> ndarrays, except that tensors can run on GPUs or other hardware accelerators. In fact, tensors and NumPy arrays can often share the same underlying memory, eliminating the need to copy data (see <font color=\"red\"> Bridge with NumPy </font> ). Tensors are also optimized for automatic differentiation (we’ll see more about that later in the Autograd section). If you’re familiar with ndarrays, you’ll be right at home with the Tensor API. If not, follow along!"
   ]
  },
  {
   "cell_type": "code",
   "execution_count": 1,
   "id": "410916c2-6e55-43ee-b729-c0592b17a479",
   "metadata": {},
   "outputs": [],
   "source": [
    "import torch\n",
    "import numpy as np"
   ]
  },
  {
   "cell_type": "markdown",
   "id": "c10f27d1-dbce-4732-8ad8-8b8a29a1541f",
   "metadata": {},
   "source": [
    "# Initializing a Tensor"
   ]
  },
  {
   "cell_type": "markdown",
   "id": "8c0cdd34-dd53-4e04-9e7b-0f301439d10c",
   "metadata": {},
   "source": [
    "Tensors can be initialized in various ways. Take a look at the following examples:"
   ]
  },
  {
   "cell_type": "markdown",
   "id": "ad7fe135-bd1a-4dec-959d-b928f11eb802",
   "metadata": {},
   "source": [
    "## Directly from data"
   ]
  },
  {
   "cell_type": "markdown",
   "id": "584f4dbd-eade-415c-9879-aa207945620d",
   "metadata": {},
   "source": [
    "Tensors can be created directly from data. The data type is automatically inferred."
   ]
  },
  {
   "cell_type": "code",
   "execution_count": 2,
   "id": "f351f965-2ac6-406e-9ffb-b3043e544caf",
   "metadata": {},
   "outputs": [
    {
     "name": "stdout",
     "output_type": "stream",
     "text": [
      "[[1, 2], [3, 4]]\n",
      "tensor([[1, 2],\n",
      "        [3, 4]])\n"
     ]
    }
   ],
   "source": [
    "data = [[1,2],[3,4]]\n",
    "x_data = torch.tensor(data)\n",
    "print(data)\n",
    "print(x_data)"
   ]
  },
  {
   "cell_type": "markdown",
   "id": "76b3c8db-e882-4dd1-845f-f0d9fd711e5c",
   "metadata": {},
   "source": [
    "## From a NumPy array"
   ]
  },
  {
   "cell_type": "markdown",
   "id": "c2ad9215-80f2-4993-821f-8f5d0fe47a5c",
   "metadata": {},
   "source": [
    "Tensors can be created from NumPy arrays (and vice versa - see <font color = \"red\"> Bridge with NumPy </font>)."
   ]
  },
  {
   "cell_type": "code",
   "execution_count": 3,
   "id": "94ad7c7f-32bd-48f0-85a0-13cae0b60c4d",
   "metadata": {},
   "outputs": [
    {
     "name": "stdout",
     "output_type": "stream",
     "text": [
      "[[1 2]\n",
      " [3 4]]\n",
      "tensor([[1, 2],\n",
      "        [3, 4]], dtype=torch.int32)\n"
     ]
    }
   ],
   "source": [
    "np_array = np.array(data)\n",
    "np = torch.from_numpy(np_array)\n",
    "print(np_array)\n",
    "print(np)"
   ]
  },
  {
   "cell_type": "markdown",
   "id": "27c801b9-91e4-4d6d-85ab-900a4449c7ee",
   "metadata": {},
   "source": [
    "## From another tensor"
   ]
  },
  {
   "cell_type": "markdown",
   "id": "598a168a-41a6-4e68-a512-d95ced5a660d",
   "metadata": {},
   "source": [
    "The new tensor retains the properties (shape, datatype) of the argument tensor, unless explicitly overridden."
   ]
  },
  {
   "cell_type": "code",
   "execution_count": 11,
   "id": "e880b86b-58f8-48d5-bb7a-90eb3d7b3969",
   "metadata": {},
   "outputs": [
    {
     "name": "stdout",
     "output_type": "stream",
     "text": [
      "Ones Tensor: \n",
      " tensor([[1, 1],\n",
      "        [1, 1]]) \n",
      "\n",
      "Random Tensor: \n",
      " tensor([[0.6592, 0.9945],\n",
      "        [0.5001, 0.3811]]) \n",
      "\n"
     ]
    }
   ],
   "source": [
    "x_ones = torch.ones_like(x_data) \n",
    "print(f\"Ones Tensor: \\n {x_ones} \\n\")\n",
    "\n",
    "x_rand = torch.rand_like(x_data, dtype = torch.float)\n",
    "print(f\"Random Tensor: \\n {x_rand} \\n\")"
   ]
  },
  {
   "cell_type": "markdown",
   "id": "1c00608e-4837-4733-9e86-69216ebf4a2c",
   "metadata": {},
   "source": [
    "## With random or constant values:"
   ]
  },
  {
   "cell_type": "markdown",
   "id": "b5ffc027-d677-4e06-82b2-f5aa82d2fc88",
   "metadata": {},
   "source": [
    "`shape` is a tuple of tensor dimensions. In the functions below, it determines the dimensionality of the output tenso"
   ]
  },
  {
   "cell_type": "code",
   "execution_count": 14,
   "id": "1fd2682c-62a3-4cc1-8cf3-08912d08e645",
   "metadata": {},
   "outputs": [
    {
     "name": "stdout",
     "output_type": "stream",
     "text": [
      "Random Tensor: \n",
      " tensor([[0.9501, 0.9191, 0.9068],\n",
      "        [0.7800, 0.2965, 0.2780]]) \n",
      "\n",
      "Ones Tensor: \n",
      " tensor([[1., 1., 1.],\n",
      "        [1., 1., 1.]]) \n",
      "\n",
      "zeros Tensor: \n",
      " tensor([[0., 0., 0.],\n",
      "        [0., 0., 0.]]) \n",
      "\n"
     ]
    }
   ],
   "source": [
    "shape = (2, 3, )\n",
    "rand_tensor = torch.rand(shape)\n",
    "ones_tensor = torch.ones(shape)\n",
    "zeros_tensor = torch.zeros(shape)\n",
    "\n",
    "print(f\"Random Tensor: \\n {rand_tensor} \\n\")\n",
    "print(f\"Ones Tensor: \\n {ones_tensor} \\n\")\n",
    "print(f\"zeros Tensor: \\n {zeros_tensor} \\n\")"
   ]
  },
  {
   "cell_type": "markdown",
   "id": "28580c47-c3ba-4844-a471-d20bb1720e92",
   "metadata": {},
   "source": [
    "# Attributes of a Tensor"
   ]
  },
  {
   "cell_type": "markdown",
   "id": "a1de6d2c-57a4-476d-9ae0-a868ccb8cb90",
   "metadata": {},
   "source": [
    "Tensor attributes describe their shape, datatype, and the device on which they are stored."
   ]
  },
  {
   "cell_type": "code",
   "execution_count": 15,
   "id": "a312b2ab-95f0-4e2f-b640-7a086943605e",
   "metadata": {},
   "outputs": [
    {
     "name": "stdout",
     "output_type": "stream",
     "text": [
      "Shape of tensor: torch.Size([3, 4])\n",
      "Datatype of tensor: torch.float32\n",
      "Device tensor is stored on: cpu\n"
     ]
    }
   ],
   "source": [
    "tensor = torch.rand(3, 4)\n",
    "\n",
    "print(f\"Shape of tensor: {tensor.shape}\")\n",
    "print(f\"Datatype of tensor: {tensor.dtype}\")\n",
    "print(f\"Device tensor is stored on: {tensor.device}\")"
   ]
  },
  {
   "cell_type": "markdown",
   "id": "0326ddd1-b28e-4707-ab8d-43e469e519e0",
   "metadata": {},
   "source": [
    "# Operations on Tensors"
   ]
  },
  {
   "cell_type": "markdown",
   "id": "de16c220-745c-4a40-88e7-1d225c18987c",
   "metadata": {},
   "source": [
    "Over 100 tensor operations, including arithmetic, linear algebra, matrix manipulation (transposing, indexing, slicing), sampling and more are comprehensively described here.\r\n",
    "\r\n",
    "Each of these operations can be run on the GPU (at typically higher speeds than on a CPU). If you’re using Colab, allocate a GPU by going to Runtime > Change runtime type > GPU.\r\n",
    "\r\n",
    "By default, tensors are created on the CPU. We need to explicitly move tensors to the using     ng    .to method (after checking for GPU availability). Keep in mind that copying large tensors across devices can be expensive in terms of time and memory!"
   ]
  },
  {
   "cell_type": "code",
   "execution_count": 17,
   "id": "09922019-83f4-40c7-8f34-4eb4a0849957",
   "metadata": {},
   "outputs": [],
   "source": [
    "# We move our tensor to the GPU if available\n",
    "if torch.cuda.is_available():\n",
    "    tensor = tensor.to(\"cuda\")"
   ]
  },
  {
   "cell_type": "markdown",
   "id": "cac38f69-74f1-4666-b876-17502ee515f7",
   "metadata": {},
   "source": [
    "Try out some of the operations from the list. If you’re familiar with the NumPy API, you’ll find the Tensor API a breeze to use."
   ]
  },
  {
   "cell_type": "markdown",
   "id": "11c9fd12-8fad-4229-a52a-964cce5a3b56",
   "metadata": {},
   "source": [
    "## Standard numpy-like indexing and slicing:"
   ]
  },
  {
   "cell_type": "code",
   "execution_count": 23,
   "id": "244382dd-36d8-4cb2-b585-c3cf9964de36",
   "metadata": {},
   "outputs": [
    {
     "name": "stdout",
     "output_type": "stream",
     "text": [
      "Ones Tensor:\n",
      " tensor([[1., 1., 1., 1.],\n",
      "        [1., 1., 1., 1.],\n",
      "        [1., 1., 1., 1.],\n",
      "        [1., 1., 1., 1.]]) \n",
      "\n",
      "First row: tensor([1., 1., 1., 1.])\n",
      "First column: tensor([1., 1., 1., 1.])\n",
      "Last column: tensor([1., 1., 1., 1.])\n",
      "Ones Tensor:\n",
      " tensor([[1., 0., 1., 1.],\n",
      "        [1., 0., 1., 1.],\n",
      "        [1., 0., 1., 1.],\n",
      "        [1., 0., 1., 1.]]) \n",
      "\n"
     ]
    }
   ],
   "source": [
    "tensor = torch.ones(4, 4)\n",
    "print(f\"Ones Tensor:\\n {tensor} \\n\") \n",
    "print(f\"First row: {tensor[0]}\")\n",
    "print(f\"First column: {tensor[:, 0]}\")\n",
    "print(f\"Last column: {tensor[..., -1]}\")\n",
    "tensor[:,1] = 0\n",
    "print(f\"Ones Tensor:\\n {tensor} \\n\") "
   ]
  },
  {
   "cell_type": "markdown",
   "id": "63b4db36-4442-4e09-b32c-7f0c7fc18770",
   "metadata": {},
   "source": [
    "## Joining tensors"
   ]
  },
  {
   "cell_type": "markdown",
   "id": "a02b3774-4799-4f28-bb9e-2d6ed9ae77f2",
   "metadata": {},
   "source": [
    "You can use torch.cat to concatenate a sequence of tensors along a given dimension. See also torch.stack, another tensor joining operator that is subtly different from torch.cat."
   ]
  },
  {
   "cell_type": "markdown",
   "id": "c53c195c-54b3-4936-a3ec-deda934902ed",
   "metadata": {},
   "source": [
    "## Arithmetic operations"
   ]
  },
  {
   "cell_type": "markdown",
   "id": "4b126100-528a-4b03-8b6b-bc843b7f2fe1",
   "metadata": {},
   "source": [
    "## Single-element tensors"
   ]
  },
  {
   "cell_type": "markdown",
   "id": "174cd8f2-7d64-4c35-9830-65deda3656b5",
   "metadata": {},
   "source": [
    "## In-place operations"
   ]
  },
  {
   "cell_type": "markdown",
   "id": "de9fee54-37a1-4ee1-a42d-4e9c89a1e3f8",
   "metadata": {},
   "source": [
    "# Bridge with NumPy"
   ]
  },
  {
   "cell_type": "markdown",
   "id": "ce3cbbc0-5441-43e4-8521-ab3646da5632",
   "metadata": {},
   "source": [
    "## Tensor to NumPy array"
   ]
  },
  {
   "cell_type": "markdown",
   "id": "814ddc18-178c-4c15-b9f8-0d1518a4fb9a",
   "metadata": {},
   "source": [
    "## NumPy array to Tensor"
   ]
  },
  {
   "cell_type": "code",
   "execution_count": null,
   "id": "b3c5ebc5-c15b-42ec-977d-eea13b4ded61",
   "metadata": {},
   "outputs": [],
   "source": []
  }
 ],
 "metadata": {
  "kernelspec": {
   "display_name": "Python 3 (ipykernel)",
   "language": "python",
   "name": "python3"
  },
  "language_info": {
   "codemirror_mode": {
    "name": "ipython",
    "version": 3
   },
   "file_extension": ".py",
   "mimetype": "text/x-python",
   "name": "python",
   "nbconvert_exporter": "python",
   "pygments_lexer": "ipython3",
   "version": "3.8.18"
  }
 },
 "nbformat": 4,
 "nbformat_minor": 5
}
