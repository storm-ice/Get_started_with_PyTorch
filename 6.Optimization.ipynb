{
 "cells": [
  {
   "cell_type": "markdown",
   "id": "7d65a7d1-40f6-4345-aab3-49dca4e0e0ec",
   "metadata": {
    "jp-MarkdownHeadingCollapsed": true
   },
   "source": [
    "# Optimizing Model Parameters"
   ]
  },
  {
   "cell_type": "markdown",
   "id": "6c123f9f-c771-4c69-9ab0-84669084a147",
   "metadata": {
    "jp-MarkdownHeadingCollapsed": true
   },
   "source": [
    "# Prerequisite Code"
   ]
  },
  {
   "cell_type": "markdown",
   "id": "45222a02-5a4c-485f-b62a-f27b2d2893bf",
   "metadata": {
    "jp-MarkdownHeadingCollapsed": true
   },
   "source": [
    "# Hyperpatameters"
   ]
  },
  {
   "cell_type": "markdown",
   "id": "ba8f302e-da31-4775-940a-029848f60b26",
   "metadata": {},
   "source": [
    "# Optimization Loop"
   ]
  },
  {
   "cell_type": "markdown",
   "id": "dfd39d24-73af-449b-a55c-d3836c949838",
   "metadata": {},
   "source": [
    "## Loss Funtion"
   ]
  },
  {
   "cell_type": "markdown",
   "id": "1cb188e4-27cf-4aa3-a739-461bb0be5d27",
   "metadata": {},
   "source": [
    "##  Opimizer"
   ]
  },
  {
   "cell_type": "markdown",
   "id": "a17c87f9-5b5d-47e7-b7fb-9893bbc7b1db",
   "metadata": {},
   "source": [
    "# Full Implementation"
   ]
  },
  {
   "cell_type": "markdown",
   "id": "1ad19cd6-e31b-42ff-b093-8df9cc7cfc21",
   "metadata": {},
   "source": [
    "# Further Reading"
   ]
  },
  {
   "cell_type": "code",
   "execution_count": null,
   "id": "d41e879d-b66b-4bc8-95b1-6f0673d21a67",
   "metadata": {},
   "outputs": [],
   "source": []
  }
 ],
 "metadata": {
  "kernelspec": {
   "display_name": "Python 3 (ipykernel)",
   "language": "python",
   "name": "python3"
  },
  "language_info": {
   "codemirror_mode": {
    "name": "ipython",
    "version": 3
   },
   "file_extension": ".py",
   "mimetype": "text/x-python",
   "name": "python",
   "nbconvert_exporter": "python",
   "pygments_lexer": "ipython3",
   "version": "3.8.0"
  }
 },
 "nbformat": 4,
 "nbformat_minor": 5
}
