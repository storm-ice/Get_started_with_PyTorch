{
 "cells": [
  {
   "cell_type": "markdown",
   "id": "d6ac47f2-2a89-4d67-85ef-475169ef8578",
   "metadata": {},
   "source": [
    "# Build the Neural Network 构建神经网络"
   ]
  },
  {
   "cell_type": "markdown",
   "id": "fa52a1ef-d013-44c0-afc6-e4d57ec8e18e",
   "metadata": {},
   "source": [
    "神经网络由对数据执行操作的层/模块组成。[torch.nn](https://pytorch.org/docs/stable/nn.html)命名空间提供了构建您自己的神经网络所需的所有构建块。在PyTorch 中，每个模块都是[nn.Module 的](https://pytorch.org/docs/stable/generated/torch.nn.Module.html)子类。神经网络本身就是一个模块，由其他模块（层）组成。这种嵌套结构允许轻松构建和管理复杂的架构。\r\n",
    "\r\n",
    "在以下部分中，我们将构建一个神经网络，来对 FashionMNIST 数据集中的图像进行分类。"
   ]
  },
  {
   "cell_type": "code",
   "execution_count": 1,
   "id": "39a5a878-35db-4f4c-99ec-e0b0d5c8c575",
   "metadata": {},
   "outputs": [],
   "source": [
    "import os\n",
    "import torch\n",
    "from torch import nn\n",
    "from torch.utils.data import DataLoader\n",
    "from torchvision import datasets, transforms"
   ]
  },
  {
   "cell_type": "markdown",
   "id": "609223c3-9c13-447f-a7a9-93ffee47eaaf",
   "metadata": {},
   "source": [
    "# Get Device for training 获取训练设备"
   ]
  },
  {
   "cell_type": "markdown",
   "id": "c420d4ac-825b-43c9-b998-400149ddf0b1",
   "metadata": {},
   "source": [
    "我们希望能够在 GPU 或 MPS 等硬件加速器（如果可用）上训练我们的模型。让我们检查一下[torch.cuda](https://pytorch.org/docs/stable/notes/cuda.html) 或[torch.backends.mps](https://pytorch.org/docs/stable/notes/mps.html)是否可用，否则我们使用 CPU。"
   ]
  },
  {
   "cell_type": "code",
   "execution_count": 2,
   "id": "76ef0a7c-3ecd-4dc3-859d-119f81f73eff",
   "metadata": {},
   "outputs": [
    {
     "name": "stdout",
     "output_type": "stream",
     "text": [
      "Using cuda device\n"
     ]
    }
   ],
   "source": [
    "device = (\n",
    "    \"cuda\"\n",
    "    if torch.cuda.is_available()\n",
    "    else \"mps\"\n",
    "    if torch.backends.mps.is_available()\n",
    "    else \"cpu\"\n",
    ")\n",
    "print(f\"Using {device} device\")"
   ]
  },
  {
   "cell_type": "markdown",
   "id": "135df18a-882f-4491-a405-19162922582d",
   "metadata": {},
   "source": [
    "# Define the Class 定义类"
   ]
  },
  {
   "cell_type": "markdown",
   "id": "ebe3f963-6ca4-4bd9-ba91-07a34f9e98aa",
   "metadata": {},
   "source": [
    "我们通过子类化`nn.Module`来定义我们的神经网络。在`__init__`中，初始化神经网络层。每个`nn.Module`子类都在`forward`方法中实现对输入数据的操作。"
   ]
  },
  {
   "cell_type": "code",
   "execution_count": 3,
   "id": "0bbd7ff5-32e9-4c07-b198-ea6eec06c68a",
   "metadata": {},
   "outputs": [],
   "source": [
    "class NeuralNetwork(nn.Module):\n",
    "    def __init__(self):\n",
    "        super().__init__()\n",
    "        self.flatten = nn.Flatten()\n",
    "        self.linear_relu_stack = nn.Sequential(\n",
    "            nn.Linear(28*28, 512),\n",
    "            nn.ReLU(),\n",
    "            nn.Linear(512, 512),\n",
    "            nn.ReLU(),\n",
    "            nn.Linear(512, 10),\n",
    "        )\n",
    "\n",
    "    def forward(self, x):\n",
    "        x = self.flatten(x)\n",
    "        logits = self.linear_relu_stack(x)\n",
    "        return logits"
   ]
  },
  {
   "cell_type": "markdown",
   "id": "881a3e8f-d2f6-480f-8aba-86377c4ddade",
   "metadata": {},
   "source": [
    "我们创建`NeuralNetwork` 的一个实例，并将其移动到`device`，并打印其结构。"
   ]
  },
  {
   "cell_type": "code",
   "execution_count": 4,
   "id": "92a8a648-c206-464f-afca-f3c95ac3f744",
   "metadata": {},
   "outputs": [
    {
     "name": "stdout",
     "output_type": "stream",
     "text": [
      "NeuralNetwork(\n",
      "  (flatten): Flatten(start_dim=1, end_dim=-1)\n",
      "  (linear_relu_stack): Sequential(\n",
      "    (0): Linear(in_features=784, out_features=512, bias=True)\n",
      "    (1): ReLU()\n",
      "    (2): Linear(in_features=512, out_features=512, bias=True)\n",
      "    (3): ReLU()\n",
      "    (4): Linear(in_features=512, out_features=10, bias=True)\n",
      "  )\n",
      ")\n"
     ]
    }
   ],
   "source": [
    "model = NeuralNetwork().to(device)\n",
    "print(model)"
   ]
  },
  {
   "cell_type": "markdown",
   "id": "d2d69f9f-2b5c-48ff-8a72-a016665850a9",
   "metadata": {},
   "source": [
    "为了使用该model，我们将输入数据传递给它。这将执行model的`forward`以及一些[background operations](https://github.com/pytorch/pytorch/blob/270111b7b611d174967ed204776985cefca9c144/torch/nn/modules/module.py#L866)。不要直接调用`model.forward()`！\r\n",
    "\r\n",
    "在输入上调用model会返回一个二维张量，其中 dim=0 对应于每个类的 10 个原始predicted values的每个输出，dim=1 对应于每个输出的各个值。我们通过，将它传递给`nn.Softmax`模块的实例，来获得prediction probabilities。率。"
   ]
  },
  {
   "cell_type": "code",
   "execution_count": 7,
   "id": "13b27c24-3d44-4f40-bf5b-396dcfb7f014",
   "metadata": {},
   "outputs": [
    {
     "name": "stdout",
     "output_type": "stream",
     "text": [
      "Predicted class: tensor([6], device='cuda:0')\n"
     ]
    }
   ],
   "source": [
    "X = torch.rand(1, 28, 28, device = device)\n",
    "logits = model(X)\n",
    "pred_probab = nn.Softmax(dim = 1)(logits)\n",
    "y_pred = pred_probab.argmax(1)\n",
    "print(f\"Predicted class: {y_pred}\")"
   ]
  },
  {
   "cell_type": "markdown",
   "id": "67b40ba3-be1d-4241-88d1-73b69df126f3",
   "metadata": {},
   "source": [
    "# Model Layers 模型层"
   ]
  },
  {
   "cell_type": "markdown",
   "id": "b3a9e402-8912-4c47-b833-cb6806fb52c1",
   "metadata": {},
   "source": [
    "让我们分解 FashionMNIST model中的layers。为了说明这一点，我们将采用 3 张大小为 28x28 的图像的小批量样本，看看当我们将其传递到网络时会发生什么。"
   ]
  },
  {
   "cell_type": "code",
   "execution_count": 9,
   "id": "e60a9ff4-5808-4693-afce-85127a0b2725",
   "metadata": {},
   "outputs": [
    {
     "name": "stdout",
     "output_type": "stream",
     "text": [
      "torch.Size([3, 28, 28])\n"
     ]
    }
   ],
   "source": [
    "input_image = torch.rand(3, 28, 28)\n",
    "print(input_image.size())"
   ]
  },
  {
   "cell_type": "markdown",
   "id": "69b21298-7c4b-4809-897d-73c46ee1891e",
   "metadata": {},
   "source": [
    "## nn.Flatten"
   ]
  },
  {
   "cell_type": "markdown",
   "id": "19e9704f-1bdd-4fb2-9c70-1b062a23965a",
   "metadata": {},
   "source": [
    "我们初始化[nn.Flatten](https://pytorch.org/docs/stable/generated/torch.nn.Flatten.html)  layer，将每个 2D 28x28 图像转换为 784 个像素值的连续数组（维持小批量维度（在 dim=0 时））。"
   ]
  },
  {
   "cell_type": "code",
   "execution_count": 11,
   "id": "10ab8dae-6d87-4648-bfbe-540f08232381",
   "metadata": {},
   "outputs": [
    {
     "name": "stdout",
     "output_type": "stream",
     "text": [
      "torch.Size([3, 784])\n"
     ]
    }
   ],
   "source": [
    "flatten = nn.Flatten()\n",
    "flat_image = flatten(input_image)\n",
    "print(flat_image.size())"
   ]
  },
  {
   "cell_type": "markdown",
   "id": "2a3ce096-f8d0-486c-a8cb-f819c221de40",
   "metadata": {},
   "source": [
    "## nn.Linear"
   ]
  },
  {
   "cell_type": "markdown",
   "id": "5ae8d5d1-2471-44df-b0be-7a4f2f406e09",
   "metadata": {},
   "source": [
    " [linear layer](https://pytorch.org/docs/stable/generated/torch.nn.Linear.html)是一个使用其存储的权重和偏差对输入应用线性变换的模块。"
   ]
  },
  {
   "cell_type": "code",
   "execution_count": 12,
   "id": "a7b6b3ce-4eea-40df-9571-58d1eb8cb9b9",
   "metadata": {},
   "outputs": [
    {
     "name": "stdout",
     "output_type": "stream",
     "text": [
      "torch.Size([3, 20])\n"
     ]
    }
   ],
   "source": [
    "layer1 = nn.Linear(in_features = 28 * 28, out_features = 20)\n",
    "hidden1 = layer1(flat_image)\n",
    "print(hidden1.size())"
   ]
  },
  {
   "cell_type": "markdown",
   "id": "bc63ea15-a945-40ec-88ad-8633247cacfb",
   "metadata": {},
   "source": [
    "## nn.ReLU"
   ]
  },
  {
   "cell_type": "markdown",
   "id": "ba876d1c-3e05-455e-97e4-c75f9b1f881a",
   "metadata": {},
   "source": [
    "非线性激活是在模型的输入和输出之间创建复杂映射的原因。它们在线性变换后应用以引入*非线性*，帮助神经网络学习各种现象。\r\n",
    "\r\n",
    "在此模型中，我们在线性层之间使用[nn.ReLU](https://pytorch.org/docs/stable/generated/torch.nn.ReLU.html)，但还有其他激活可以在模型中引入非线性。"
   ]
  },
  {
   "cell_type": "code",
   "execution_count": 13,
   "id": "0c4f5f1f-e9eb-4b86-943b-e2fa6aaa2e07",
   "metadata": {},
   "outputs": [
    {
     "name": "stdout",
     "output_type": "stream",
     "text": [
      "Before ReLU: tensor([[-0.0849, -0.2937, -0.1301,  0.1010,  0.4920, -0.1128,  0.0920,  0.3483,\n",
      "          0.4119,  0.1577,  0.0206,  0.0750,  0.2249, -0.1985,  0.2594,  0.1426,\n",
      "         -0.4594, -0.6375, -0.5798,  0.0857],\n",
      "        [ 0.2831,  0.1627, -0.2540, -0.0552,  0.6057, -0.2226,  0.0899, -0.0428,\n",
      "          0.3267,  0.0741,  0.0259,  0.3355,  0.0722, -0.1432,  0.0922,  0.1353,\n",
      "         -0.0928, -0.5571, -0.6916, -0.2952],\n",
      "        [-0.0133, -0.1773, -0.1851,  0.2068,  0.4804,  0.0631, -0.1117, -0.1130,\n",
      "          0.1828,  0.2359, -0.0267,  0.1468, -0.3564, -0.2823,  0.2737,  0.0896,\n",
      "         -0.8043, -0.5257, -0.8898, -0.0979]], grad_fn=<AddmmBackward0>)\n",
      "\n",
      "\n",
      "After ReLU: tensor([[0.0000, 0.0000, 0.0000, 0.1010, 0.4920, 0.0000, 0.0920, 0.3483, 0.4119,\n",
      "         0.1577, 0.0206, 0.0750, 0.2249, 0.0000, 0.2594, 0.1426, 0.0000, 0.0000,\n",
      "         0.0000, 0.0857],\n",
      "        [0.2831, 0.1627, 0.0000, 0.0000, 0.6057, 0.0000, 0.0899, 0.0000, 0.3267,\n",
      "         0.0741, 0.0259, 0.3355, 0.0722, 0.0000, 0.0922, 0.1353, 0.0000, 0.0000,\n",
      "         0.0000, 0.0000],\n",
      "        [0.0000, 0.0000, 0.0000, 0.2068, 0.4804, 0.0631, 0.0000, 0.0000, 0.1828,\n",
      "         0.2359, 0.0000, 0.1468, 0.0000, 0.0000, 0.2737, 0.0896, 0.0000, 0.0000,\n",
      "         0.0000, 0.0000]], grad_fn=<ReluBackward0>)\n"
     ]
    }
   ],
   "source": [
    "print(f\"Before ReLU: {hidden1}\\n\\n\")\n",
    "hidden1 = nn.ReLU()(hidden1)\n",
    "print(f\"After ReLU: {hidden1}\")"
   ]
  },
  {
   "cell_type": "markdown",
   "id": "ec4b4310-ebb5-4477-ae69-0e1657b67c50",
   "metadata": {},
   "source": [
    "## nn.Sequential"
   ]
  },
  {
   "cell_type": "markdown",
   "id": "0e382125-edae-44f9-877d-57b5d9e660a5",
   "metadata": {},
   "source": [
    "[nn.Sequential](https://pytorch.org/docs/stable/generated/torch.nn.Sequential.html)是模块的有序容器。数据按照定义的相同顺序传递通过所有模块。您可以使用顺序容器来组合一个快速网络，例如`seq_modules`."
   ]
  },
  {
   "cell_type": "code",
   "execution_count": 15,
   "id": "6d8fe7e2-7fd9-4bf5-8c25-1d579983115b",
   "metadata": {},
   "outputs": [],
   "source": [
    "seq_modules = nn.Sequential(\n",
    "    flatten,\n",
    "    layer1,\n",
    "    nn.ReLU(),\n",
    "    nn.Linear(20, 10)\n",
    ")\n",
    "input_image = torch.rand(3, 28, 28)\n",
    "logits = seq_modules(input_image)"
   ]
  },
  {
   "cell_type": "markdown",
   "id": "5bba583f-fdb6-4d2a-ab54-1d5b25109f41",
   "metadata": {},
   "source": [
    "## nn.Softmax"
   ]
  },
  {
   "cell_type": "markdown",
   "id": "81b07b40-dd19-440e-95e8-7716fdef48bd",
   "metadata": {},
   "source": [
    "神经网络的最后一个线性层返回logits （ [-infty, infty] 中的原始值）被传递到 [nn.Softmax](https://pytorch.org/docs/stable/generated/torch.nn.Softmax.html)模块。Logits 缩放为值 [0, 1]，表示模型对每个类别的预测概率。`dim`参数指示维度，沿该维度值的总和必须为 1。"
   ]
  },
  {
   "cell_type": "code",
   "execution_count": 16,
   "id": "29fdef10-8829-49ea-a544-17ab0a571c28",
   "metadata": {},
   "outputs": [],
   "source": [
    "softmax = nn.Softmax(dim = 1)\n",
    "pred_probab = softmax(logits)"
   ]
  },
  {
   "cell_type": "markdown",
   "id": "37b41da3-f55a-45ba-b9cd-b78492972df5",
   "metadata": {},
   "source": [
    "# Model Parameters 模型参数"
   ]
  },
  {
   "cell_type": "markdown",
   "id": "331ab4b2-64dc-4e05-b572-4f9c9d64e653",
   "metadata": {},
   "source": [
    "神经网络内的许多层都是*参数化的*。在训练期间，优化的相关权重和偏差。子类化`nn.Module`会自动跟踪模型对象中定义的所有字段，并使所有参数都可以使用模型`parameters()`或`named_parameters()`方法进行访问。\r\n",
    "\r\n",
    "在此示例中，我们迭代每个参数，并打印其大小及其值的预览。"
   ]
  },
  {
   "cell_type": "code",
   "execution_count": 18,
   "id": "213aaf09-36fa-49e4-b9b9-0bd6f91650b9",
   "metadata": {},
   "outputs": [
    {
     "name": "stdout",
     "output_type": "stream",
     "text": [
      "Model structure: NeuralNetwork(\n",
      "  (flatten): Flatten(start_dim=1, end_dim=-1)\n",
      "  (linear_relu_stack): Sequential(\n",
      "    (0): Linear(in_features=784, out_features=512, bias=True)\n",
      "    (1): ReLU()\n",
      "    (2): Linear(in_features=512, out_features=512, bias=True)\n",
      "    (3): ReLU()\n",
      "    (4): Linear(in_features=512, out_features=10, bias=True)\n",
      "  )\n",
      ")\n",
      "\n",
      "\n",
      "Layer: linear_relu_stack.0.weight | Size: torch.Size([512, 784]) | Values: tensor([[-0.0337,  0.0320,  0.0072,  ..., -0.0061, -0.0181,  0.0175],\n",
      "        [ 0.0285,  0.0009,  0.0083,  ...,  0.0137, -0.0123,  0.0303]],\n",
      "       device='cuda:0', grad_fn=<SliceBackward0>) \n",
      "\n",
      "Layer: linear_relu_stack.0.bias | Size: torch.Size([512]) | Values: tensor([-0.0018, -0.0297], device='cuda:0', grad_fn=<SliceBackward0>) \n",
      "\n",
      "Layer: linear_relu_stack.2.weight | Size: torch.Size([512, 512]) | Values: tensor([[-0.0172,  0.0179,  0.0206,  ..., -0.0175, -0.0417,  0.0410],\n",
      "        [ 0.0051, -0.0359,  0.0321,  ...,  0.0005,  0.0167,  0.0055]],\n",
      "       device='cuda:0', grad_fn=<SliceBackward0>) \n",
      "\n",
      "Layer: linear_relu_stack.2.bias | Size: torch.Size([512]) | Values: tensor([-0.0300, -0.0200], device='cuda:0', grad_fn=<SliceBackward0>) \n",
      "\n",
      "Layer: linear_relu_stack.4.weight | Size: torch.Size([10, 512]) | Values: tensor([[ 0.0104,  0.0304,  0.0023,  ...,  0.0159, -0.0316,  0.0228],\n",
      "        [-0.0337, -0.0182,  0.0037,  ...,  0.0105, -0.0120,  0.0311]],\n",
      "       device='cuda:0', grad_fn=<SliceBackward0>) \n",
      "\n",
      "Layer: linear_relu_stack.4.bias | Size: torch.Size([10]) | Values: tensor([ 0.0134, -0.0431], device='cuda:0', grad_fn=<SliceBackward0>) \n",
      "\n"
     ]
    }
   ],
   "source": [
    "print(f\"Model structure: {model}\\n\\n\")\n",
    "for name, param in model.named_parameters():\n",
    "    print(f\"Layer: {name} | Size: {param.size()} | Values: {param[:2]} \\n\")"
   ]
  },
  {
   "cell_type": "markdown",
   "id": "dddd2aec-7bc2-41d9-a543-4084c3aa6546",
   "metadata": {},
   "source": [
    "# Further Reading 进一步阅读"
   ]
  },
  {
   "cell_type": "markdown",
   "id": "5ed7edbd-bff4-4d56-b988-dfeebd1a4ec1",
   "metadata": {},
   "source": [
    "- [torch.nn API](https://pytorch.org/docs/stable/nn.html)"
   ]
  },
  {
   "cell_type": "markdown",
   "id": "4589202a-0a93-4a39-a091-38c6afb4808a",
   "metadata": {},
   "source": [
    "# References 参考资料"
   ]
  },
  {
   "cell_type": "markdown",
   "id": "a2a357a1-cf1f-4c8d-850a-0495ee107a25",
   "metadata": {},
   "source": [
    "Build the Neural Network — PyTorch Tutorials 2.2.0+cu121 documentation\r\n",
    "\r\n",
    "[Build the Neural Network — PyTorch Tutorials 2.2.0+cu121 documentation](https://pytorch.org/tutorials/beginner/basics/buildmodel_tutorial.html#further-reading)"
   ]
  },
  {
   "cell_type": "markdown",
   "id": "17499ead-4ba0-45c0-908c-59ead9e89217",
   "metadata": {},
   "source": [
    "# Github"
   ]
  },
  {
   "cell_type": "markdown",
   "id": "44b7c5f8-4137-4699-bb18-054ee41917a6",
   "metadata": {},
   "source": [
    "storm-ice/Get_started_with_PyTorch\r\n",
    "\r\n",
    "[storm-ice/Get_started_with_PyTorch](https://github.com/storm-ice/Get_started_with_PyTorch)"
   ]
  },
  {
   "cell_type": "code",
   "execution_count": null,
   "id": "b96ba443-6e31-4524-85d8-4a2bd5aa65ba",
   "metadata": {},
   "outputs": [],
   "source": []
  }
 ],
 "metadata": {
  "kernelspec": {
   "display_name": "Python 3 (ipykernel)",
   "language": "python",
   "name": "python3"
  },
  "language_info": {
   "codemirror_mode": {
    "name": "ipython",
    "version": 3
   },
   "file_extension": ".py",
   "mimetype": "text/x-python",
   "name": "python",
   "nbconvert_exporter": "python",
   "pygments_lexer": "ipython3",
   "version": "3.8.0"
  }
 },
 "nbformat": 4,
 "nbformat_minor": 5
}
