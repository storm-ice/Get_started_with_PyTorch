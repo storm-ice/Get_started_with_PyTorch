{
 "cells": [
  {
   "cell_type": "markdown",
   "id": "dc586a23-0107-4f5b-ac25-345ad9ee395a",
   "metadata": {},
   "source": [
    "# Transforms"
   ]
  },
  {
   "cell_type": "markdown",
   "id": "499e6d23-133d-4405-8a8d-5596a2193783",
   "metadata": {},
   "source": [
    "数据并不总是以训练机器学习算法所需的最终处理形式出现。我们使用****transforms****来对数据执行一些操作并使其适合训练。\r\n",
    "\r\n",
    "所有 TorchVision datasets都有两个参数： `transform`用来修改features和 `target_transform`用来修改labels。这两个参数接受包含转换逻辑的可调用对象。[torchvision.transforms](https://pytorch.org/vision/stable/transforms.html)模块提供了几种开箱即用的常用转换。\r\n",
    "\r\n",
    "FashionMNIST features采用PIL图像格式，labels为整数。对于训练，我们需要将特征作为归一化张量，将标签作为单热编码张量。为了进行这些转换，我们使用`ToTensor`和`Lambda`。da`。"
   ]
  },
  {
   "cell_type": "code",
   "execution_count": 4,
   "id": "1189ac88-3398-4c75-bc3e-0489a4de8317",
   "metadata": {},
   "outputs": [],
   "source": [
    "import torch\n",
    "from torchvision import datasets\n",
    "from torchvision.transforms import ToTensor, Lambda\n",
    "\n",
    "ds = datasets.FashionMNIST(\n",
    "    root = \"data\",\n",
    "    train = True,\n",
    "    download = True,\n",
    "    transform = ToTensor(),\n",
    "    target_transform = Lambda(lambda y: torch.zeros(10, dtype = torch.float).scatter_(0, torch.tensor(y), value = 1))\n",
    ")"
   ]
  },
  {
   "cell_type": "markdown",
   "id": "e898b493-318f-4690-aa1b-beb75dc7c79e",
   "metadata": {},
   "source": [
    "# ToTensor()"
   ]
  },
  {
   "cell_type": "markdown",
   "id": "1642954f-1677-4322-a376-33ea905fd078",
   "metadata": {},
   "source": [
    "[ToTensor](https://pytorch.org/vision/stable/transforms.html#torchvision.transforms.ToTensor) 将 PIL 图像或 NumPy 转换`ndarray`为`FloatTensor`. 并在 [0., 1.] 范围内缩放图像的像素强度值"
   ]
  },
  {
   "cell_type": "markdown",
   "id": "1a22b7a0-566c-4f37-b44d-d17b29fbda70",
   "metadata": {},
   "source": [
    "# Lambda Transforms"
   ]
  },
  {
   "cell_type": "markdown",
   "id": "41aaa772-6e23-44e2-846e-cafeaa4e38ec",
   "metadata": {},
   "source": [
    "Lambda 转换应用任何用户定义的 lambda 函数。在这里，我们定义一个函数，这个函数的功能是将整数转换为 one-hot encoded tensor。它首先创建一个大小为 10（the number of labels in our dataset）的零张量，并调用 [scatter_](https://pytorch.org/docs/stable/generated/torch.Tensor.scatter_.html)，它在 label 给定的索引上将`value=1` 分配`y`。"
   ]
  },
  {
   "cell_type": "code",
   "execution_count": 5,
   "id": "4256f9b2-63dc-45cd-a0b4-0570310c1bf2",
   "metadata": {},
   "outputs": [],
   "source": [
    "target_transform = Lambda(lambda y: torch.zeros(\n",
    "    10, dtype=torch.float).scatter_(dim=0, index=torch.tensor(y), value=1))"
   ]
  },
  {
   "cell_type": "markdown",
   "id": "0f90252c-77bc-4f79-b7ed-29c0f755b187",
   "metadata": {},
   "source": [
    "## Further Reading"
   ]
  },
  {
   "cell_type": "markdown",
   "id": "f1c278c1-9c77-436d-83c6-7a2166576133",
   "metadata": {},
   "source": [
    "[torchvision.transforms API](https://pytorch.org/vision/stable/transforms.html)"
   ]
  },
  {
   "cell_type": "code",
   "execution_count": null,
   "id": "0cf3b5ac-bfc6-46cf-8d4c-a5bf11f987d1",
   "metadata": {},
   "outputs": [],
   "source": []
  }
 ],
 "metadata": {
  "kernelspec": {
   "display_name": "Python 3 (ipykernel)",
   "language": "python",
   "name": "python3"
  },
  "language_info": {
   "codemirror_mode": {
    "name": "ipython",
    "version": 3
   },
   "file_extension": ".py",
   "mimetype": "text/x-python",
   "name": "python",
   "nbconvert_exporter": "python",
   "pygments_lexer": "ipython3",
   "version": "3.8.0"
  }
 },
 "nbformat": 4,
 "nbformat_minor": 5
}
