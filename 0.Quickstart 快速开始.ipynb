{
 "cells": [
  {
   "cell_type": "markdown",
   "id": "d370c536",
   "metadata": {},
   "source": [
    "# Quickstart 快速开始"
   ]
  },
  {
   "cell_type": "markdown",
   "id": "1906fabe",
   "metadata": {},
   "source": [
    "本节介绍机器学习中常见任务的 API。请参阅每个部分中的链接以进行更深入的研究。"
   ]
  },
  {
   "cell_type": "markdown",
   "id": "8de5b833",
   "metadata": {},
   "source": [
    "# Working with data 处理数据"
   ]
  },
  {
   "cell_type": "markdown",
   "id": "54ab1502",
   "metadata": {},
   "source": [
    "PyTorch 有两个[处理数据的基元](https://pytorch.org/docs/stable/data.html)： `torch.utils.data.DataLoader`和`torch.utils.data.Dataset`。 `Dataset`存储样本及其相应的标签，`DataLoader` 包装一个可迭代对象 `Dataset`。"
   ]
  },
  {
   "cell_type": "code",
   "execution_count": 1,
   "id": "4826b896",
   "metadata": {},
   "outputs": [],
   "source": [
    "import torch\n",
    "from torch import nn\n",
    "from torch.utils.data import DataLoader\n",
    "from torchvision import datasets\n",
    "from torchvision.transforms import ToTensor"
   ]
  },
  {
   "cell_type": "markdown",
   "id": "0f35f08c",
   "metadata": {},
   "source": [
    "PyTorch 提供特定领域的库，例如[TorchText](https://pytorch.org/text/stable/index.html)、 [TorchVision](https://pytorch.org/vision/stable/index.html)和[TorchAudio](https://pytorch.org/audio/stable/index.html)，所有这些都包含数据集。在本教程中，我们将使用 TorchVision 数据集。"
   ]
  },
  {
   "cell_type": "markdown",
   "id": "399056d0",
   "metadata": {},
   "source": [
    "该`torchvision.datasets`模块包含`Dataset`许多现实世界视觉数据的对象，如 CIFAR、COCO（[完整列表见此处](https://pytorch.org/vision/stable/datasets.html)）。在本教程中，我们使用 FashionMNIST 数据集。每个 TorchVision 都`Dataset`包含两个参数：`transform`和 `target_transform`分别修改样本和标签。"
   ]
  },
  {
   "cell_type": "code",
   "execution_count": 2,
   "id": "dc5ffe5c",
   "metadata": {},
   "outputs": [],
   "source": [
    "# Download training data from open datasets.\n",
    "training_data=datasets.FashionMNIST(\n",
    "    root=\"data\",\n",
    "    train=True,\n",
    "    download=True,\n",
    "    transform=ToTensor(),\n",
    ")\n",
    "\n",
    "# Download test data from open datasets.\n",
    "test_data=datasets.FashionMNIST(\n",
    "    root=\"data\",\n",
    "    train=False,\n",
    "    download=True,\n",
    "    transform=ToTensor(),\n",
    ")"
   ]
  },
  {
   "cell_type": "markdown",
   "id": "d3208e3b",
   "metadata": {},
   "source": [
    "我们将 `Dataset` 作为参数传递给 `DataLoader`。这在我们的数据集上包装了一个可迭代对象，and supports automatic batching, sampling, shuffling and multiprocess data loading.这里我们定义batch size为64，即每个元素 在数据加载器中，iterable 将返回一批 64 个特征和标签。"
   ]
  },
  {
   "cell_type": "code",
   "execution_count": 3,
   "id": "9af01608",
   "metadata": {},
   "outputs": [
    {
     "name": "stdout",
     "output_type": "stream",
     "text": [
      "Shape of X [N, C, H, W], torch.Size([64, 1, 28, 28])\n",
      "Shape of y: torch.Size([64]) torch.int64\n"
     ]
    }
   ],
   "source": [
    "batch_size=64\n",
    "\n",
    "# Create data loaders.\n",
    "train_dataloader=DataLoader(training_data,batch_size=batch_size)\n",
    "test_dataloader=DataLoader(test_data,batch_size=batch_size)\n",
    "\n",
    "for X, y in test_dataloader:\n",
    "    print(f\"Shape of X [N, C, H, W], {X.shape}\")\n",
    "    print(f\"Shape of y: {y.shape} {y.dtype}\")\n",
    "    break"
   ]
  },
  {
   "cell_type": "markdown",
   "id": "bd68162a",
   "metadata": {},
   "source": [
    "详细了解[在 PyTorch 中加载数据](https://pytorch.org/tutorials/beginner/basics/data_tutorial.html)。"
   ]
  },
  {
   "cell_type": "markdown",
   "id": "57cf2cc0",
   "metadata": {},
   "source": [
    "# Creating Models 创建模型"
   ]
  },
  {
   "cell_type": "markdown",
   "id": "c76718e4",
   "metadata": {},
   "source": [
    "为了在 PyTorch 中定义神经网络，我们创建一个继承自[nn.Module](https://pytorch.org/docs/stable/generated/torch.nn.Module.html)的类。我们在`__init__`函数中，定义网络的层。在`forward`函数中，指定数据如何在函数中通过网络。为了加速神经网络中的操作，我们将其转移到 GPU 或 MPS（如果可用）。"
   ]
  },
  {
   "cell_type": "code",
   "execution_count": 4,
   "id": "d44e6d49",
   "metadata": {},
   "outputs": [
    {
     "name": "stdout",
     "output_type": "stream",
     "text": [
      "Using cuda device\n",
      "NeuralNetwork(\n",
      "  (flatten): Flatten(start_dim=1, end_dim=-1)\n",
      "  (linear_relu_stack): Sequential(\n",
      "    (0): Linear(in_features=784, out_features=512, bias=True)\n",
      "    (1): ReLU()\n",
      "    (2): Linear(in_features=512, out_features=512, bias=True)\n",
      "    (3): ReLU()\n",
      "    (4): Linear(in_features=512, out_features=10, bias=True)\n",
      "  )\n",
      ")\n"
     ]
    }
   ],
   "source": [
    "# Get cpu, gpu or mps device for training.\n",
    "device = (\n",
    "    \"cuda\"\n",
    "    if torch.cuda.is_available()\n",
    "    else \"mps\"\n",
    "    if torch.backends.mps.is_available()\n",
    "    else \"cpu\"\n",
    "    \n",
    ")\n",
    "print(f\"Using {device} device\")\n",
    "\n",
    "# Define model\n",
    "class NeuralNetwork(nn.Module):\n",
    "    def __init__(self):\n",
    "        super().__init__()\n",
    "        self.flatten = nn.Flatten()\n",
    "        self.linear_relu_stack = nn.Sequential(\n",
    "            nn.Linear(28*28, 512),\n",
    "            nn.ReLU(),\n",
    "            nn.Linear(512, 512),\n",
    "            nn.ReLU(),\n",
    "            nn.Linear(512, 10)\n",
    "        )\n",
    "    \n",
    "    def forward(self, x):\n",
    "        x = self.flatten(x)\n",
    "        logits = self.linear_relu_stack(x)\n",
    "        return logits\n",
    "model = NeuralNetwork().to(device)\n",
    "print(model)"
   ]
  },
  {
   "cell_type": "markdown",
   "id": "79210997",
   "metadata": {},
   "source": [
    "阅读有关[在 PyTorch 中构建神经网络](https://pytorch.org/tutorials/beginner/basics/buildmodel_tutorial.html)的更多信息。"
   ]
  },
  {
   "cell_type": "markdown",
   "id": "09ab3ed7",
   "metadata": {},
   "source": [
    "# Optimizing the Model Parameters 优化模型参数"
   ]
  },
  {
   "cell_type": "markdown",
   "id": "0743f349",
   "metadata": {},
   "source": [
    "为了训练模型，我们需要一个[损失函数](https://pytorch.org/docs/stable/nn.html#loss-functions) 和一个[优化器](https://pytorch.org/docs/stable/optim.html)。"
   ]
  },
  {
   "cell_type": "code",
   "execution_count": 5,
   "id": "9b544cc0",
   "metadata": {},
   "outputs": [],
   "source": [
    "loss_fn = nn.CrossEntropyLoss()\n",
    "optimizer = torch.optim.SGD(model.parameters(), lr = 1e-3)"
   ]
  },
  {
   "cell_type": "markdown",
   "id": "22f20712",
   "metadata": {},
   "source": [
    "在单个训练循环中，模型对训练数据集（批量输入），进行预测。并反向传播预测误差，以调整模型的参数。"
   ]
  },
  {
   "cell_type": "code",
   "execution_count": 6,
   "id": "bab94292",
   "metadata": {},
   "outputs": [],
   "source": [
    "def train(dataloader, model, loss_fn, optimizer):\n",
    "    size = len(dataloader.dataset)\n",
    "    model.train()\n",
    "    for batch, (X, y) in enumerate(dataloader):\n",
    "        X, y = X.to(device), y.to(device)\n",
    "        \n",
    "        # Compute prediction error\n",
    "        pred = model(X)\n",
    "        loss = loss_fn(pred, y)\n",
    "        \n",
    "        # Backpropagation\n",
    "        loss.backward()\n",
    "        optimizer.step()\n",
    "        optimizer.zero_grad()\n",
    "        \n",
    "        if batch % 100 == 0:\n",
    "            loss, current = loss.item(), (batch + 1) * len(X)\n",
    "            print(f\"loss: {loss:>7f} [{current:>5d} / {size:>5d}]\")"
   ]
  },
  {
   "cell_type": "markdown",
   "id": "9d232a48",
   "metadata": {},
   "source": [
    "我们还根据测试数据集检查模型的性能，以确保它正在学习。"
   ]
  },
  {
   "cell_type": "code",
   "execution_count": 7,
   "id": "bc56d89f",
   "metadata": {},
   "outputs": [],
   "source": [
    "def test(dataloader, model, loss_fn):\n",
    "    size = len(dataloader.dataset)\n",
    "    num_batches = len(dataloader)\n",
    "    model.eval()\n",
    "    test_loss, correct = 0, 0\n",
    "    with torch.no_grad():\n",
    "        for X, y in dataloader:\n",
    "            X, y = X.to(device), y.to(device)\n",
    "            pred = model(X)\n",
    "            test_loss = loss_fn(pred, y).item()\n",
    "            correct += (pred.argmax(1) == y).type(torch.float).sum().item()\n",
    "    test_loss /= num_batches\n",
    "    correct /= size\n",
    "    print(f\"Test Error: \\n Accuracy: {(100*correct):>0.1f}%, Avg loss: {test_loss:>8f} \\n\")"
   ]
  },
  {
   "cell_type": "markdown",
   "id": "03c940d1",
   "metadata": {},
   "source": [
    "训练过程需要经过多次迭代（*epochs*）。在每个时期，模型都会学习参数以做出更好的预测。我们打印每个时期模型的准确性和损失；我们希望看到每个 epoch 的准确率都会提高，损失也会减少。"
   ]
  },
  {
   "cell_type": "code",
   "execution_count": 8,
   "id": "d88e0703",
   "metadata": {},
   "outputs": [
    {
     "name": "stdout",
     "output_type": "stream",
     "text": [
      "Epoch 1\n",
      "--------------------\n",
      "loss: 2.304726 [   64 / 60000]\n",
      "loss: 2.289089 [ 6464 / 60000]\n",
      "loss: 2.266572 [12864 / 60000]\n",
      "loss: 2.258768 [19264 / 60000]\n",
      "loss: 2.248016 [25664 / 60000]\n",
      "loss: 2.214731 [32064 / 60000]\n",
      "loss: 2.218425 [38464 / 60000]\n",
      "loss: 2.190071 [44864 / 60000]\n",
      "loss: 2.187599 [51264 / 60000]\n",
      "loss: 2.144283 [57664 / 60000]\n",
      "Test Error: \n",
      " Accuracy: 47.1%, Avg loss: 0.013809 \n",
      "\n",
      "Epoch 2\n",
      "--------------------\n",
      "loss: 2.154081 [   64 / 60000]\n",
      "loss: 2.137184 [ 6464 / 60000]\n",
      "loss: 2.070177 [12864 / 60000]\n",
      "loss: 2.088950 [19264 / 60000]\n",
      "loss: 2.036083 [25664 / 60000]\n",
      "loss: 1.970761 [32064 / 60000]\n",
      "loss: 2.003250 [38464 / 60000]\n",
      "loss: 1.919241 [44864 / 60000]\n",
      "loss: 1.929177 [51264 / 60000]\n",
      "loss: 1.849992 [57664 / 60000]\n",
      "Test Error: \n",
      " Accuracy: 54.4%, Avg loss: 0.011963 \n",
      "\n",
      "Epoch 3\n",
      "--------------------\n",
      "loss: 1.880016 [   64 / 60000]\n",
      "loss: 1.839272 [ 6464 / 60000]\n",
      "loss: 1.711363 [12864 / 60000]\n",
      "loss: 1.767813 [19264 / 60000]\n",
      "loss: 1.656044 [25664 / 60000]\n",
      "loss: 1.610566 [32064 / 60000]\n",
      "loss: 1.642413 [38464 / 60000]\n",
      "loss: 1.542938 [44864 / 60000]\n",
      "loss: 1.574653 [51264 / 60000]\n",
      "loss: 1.474105 [57664 / 60000]\n",
      "Test Error: \n",
      " Accuracy: 62.1%, Avg loss: 0.009554 \n",
      "\n",
      "Epoch 4\n",
      "--------------------\n",
      "loss: 1.551538 [   64 / 60000]\n",
      "loss: 1.512593 [ 6464 / 60000]\n",
      "loss: 1.357423 [12864 / 60000]\n",
      "loss: 1.442714 [19264 / 60000]\n",
      "loss: 1.330585 [25664 / 60000]\n",
      "loss: 1.329656 [32064 / 60000]\n",
      "loss: 1.347345 [38464 / 60000]\n",
      "loss: 1.276171 [44864 / 60000]\n",
      "loss: 1.312821 [51264 / 60000]\n",
      "loss: 1.217875 [57664 / 60000]\n",
      "Test Error: \n",
      " Accuracy: 63.9%, Avg loss: 0.007794 \n",
      "\n",
      "Epoch 5\n",
      "--------------------\n",
      "loss: 1.312908 [   64 / 60000]\n",
      "loss: 1.292930 [ 6464 / 60000]\n",
      "loss: 1.124671 [12864 / 60000]\n",
      "loss: 1.237149 [19264 / 60000]\n",
      "loss: 1.118705 [25664 / 60000]\n",
      "loss: 1.146358 [32064 / 60000]\n",
      "loss: 1.166221 [38464 / 60000]\n",
      "loss: 1.108118 [44864 / 60000]\n",
      "loss: 1.148203 [51264 / 60000]\n",
      "loss: 1.064387 [57664 / 60000]\n",
      "Test Error: \n",
      " Accuracy: 65.2%, Avg loss: 0.006582 \n",
      "\n",
      "Done!\n"
     ]
    }
   ],
   "source": [
    "epochs = 5\n",
    "for t in range (epochs):\n",
    "    print(f\"Epoch {t+1}\\n--------------------\")\n",
    "    train(train_dataloader, model, loss_fn, optimizer)\n",
    "    test(test_dataloader, model, loss_fn)\n",
    "print(\"Done!\")"
   ]
  },
  {
   "cell_type": "markdown",
   "id": "89881543",
   "metadata": {},
   "source": [
    "# Saving Models 保存模型"
   ]
  },
  {
   "cell_type": "markdown",
   "id": "d0b38ba6",
   "metadata": {},
   "source": [
    "保存模型的常见方法是序列化内部状态字典（包含模型参数）。"
   ]
  },
  {
   "cell_type": "code",
   "execution_count": 9,
   "id": "08d7e7bd",
   "metadata": {},
   "outputs": [
    {
     "name": "stdout",
     "output_type": "stream",
     "text": [
      "Save PyTorch Model State to model.pth\n"
     ]
    }
   ],
   "source": [
    "torch.save(model.state_dict(),\"model.pth\")\n",
    "print(\"Save PyTorch Model State to model.pth\")"
   ]
  },
  {
   "cell_type": "markdown",
   "id": "8f4d6e5a",
   "metadata": {},
   "source": [
    "# Loading Models 加载模型"
   ]
  },
  {
   "cell_type": "markdown",
   "id": "2ff134d1",
   "metadata": {},
   "source": [
    "加载模型的过程包括：重新创建模型结构，并将状态字典加载到其中。"
   ]
  },
  {
   "cell_type": "code",
   "execution_count": 10,
   "id": "10bad320",
   "metadata": {},
   "outputs": [
    {
     "data": {
      "text/plain": [
       "<All keys matched successfully>"
      ]
     },
     "execution_count": 10,
     "metadata": {},
     "output_type": "execute_result"
    }
   ],
   "source": [
    "model = NeuralNetwork().to(device)\n",
    "model.load_state_dict(torch.load(\"model.pth\"))"
   ]
  },
  {
   "cell_type": "markdown",
   "id": "fa610762",
   "metadata": {},
   "source": [
    "该模型现在可用于进行预测。"
   ]
  },
  {
   "cell_type": "code",
   "execution_count": 11,
   "id": "de8783fd",
   "metadata": {},
   "outputs": [
    {
     "name": "stdout",
     "output_type": "stream",
     "text": [
      "Predicted: 'Ankle boot', Actual: 'Ankle boot'\n"
     ]
    }
   ],
   "source": [
    "classes = [\n",
    "    \"T-shirt/top\",\n",
    "    \"Trouser\",\n",
    "    \"Pullover\",\n",
    "    \"Dress\",\n",
    "    \"Coat\",\n",
    "    \"Sandal\",\n",
    "    \"Shirt\",\n",
    "    \"Sneaker\",\n",
    "    \"Bag\",\n",
    "    \"Ankle boot\",\n",
    "]\n",
    "\n",
    "model.eval()\n",
    "x, y = test_data[0][0], test_data[0][1]\n",
    "with torch.no_grad():\n",
    "    x = x.to(device)\n",
    "    pred = model(x)\n",
    "    predicted, actual = classes[pred[0].argmax(0)], classes[y]\n",
    "    print(f\"Predicted: '{predicted}', Actual: '{actual}'\")"
   ]
  },
  {
   "cell_type": "markdown",
   "id": "e1475bf7-a16f-41aa-8e3c-f45bee13f4f2",
   "metadata": {},
   "source": [
    "阅读有关[保存和加载模型](https://pytorch.org/tutorials/beginner/basics/saveloadrun_tutorial.html)的更多信息。"
   ]
  },
  {
   "cell_type": "markdown",
   "id": "7ee1e7f7-e4be-48e7-8764-d28e6ec79480",
   "metadata": {},
   "source": [
    "# References 参考资料"
   ]
  },
  {
   "cell_type": "markdown",
   "id": "18feba36-3f39-4b18-b5d1-ca5b529360ab",
   "metadata": {},
   "source": [
    "Learn the Basics — PyTorch Tutorials 2.2.0+cu121 documentation\n",
    "\n",
    "[Learn the Basics — PyTorch Tutorials 2.2.0+cu121 documentation](https://pytorch.org/tutorials/beginner/basics/intro.html)"
   ]
  },
  {
   "cell_type": "markdown",
   "id": "c20aa06c-9080-4bf4-af96-76f00d80fda0",
   "metadata": {},
   "source": [
    "# Github"
   ]
  },
  {
   "cell_type": "markdown",
   "id": "cf931ba6-5b8c-43b5-986c-63f7a6892221",
   "metadata": {},
   "source": [
    "storm-ice/Get_started_with_PyTorch\n",
    "\n",
    "[storm-ice/Get_started_with_PyTorch](https://github.com/storm-ice/Get_started_with_PyTorch)"
   ]
  },
  {
   "cell_type": "code",
   "execution_count": null,
   "id": "ac447229-46a3-4e11-8631-766baa7a6763",
   "metadata": {},
   "outputs": [],
   "source": []
  }
 ],
 "metadata": {
  "kernelspec": {
   "display_name": "Python 3 (ipykernel)",
   "language": "python",
   "name": "python3"
  },
  "language_info": {
   "codemirror_mode": {
    "name": "ipython",
    "version": 3
   },
   "file_extension": ".py",
   "mimetype": "text/x-python",
   "name": "python",
   "nbconvert_exporter": "python",
   "pygments_lexer": "ipython3",
   "version": "3.8.0"
  }
 },
 "nbformat": 4,
 "nbformat_minor": 5
}
